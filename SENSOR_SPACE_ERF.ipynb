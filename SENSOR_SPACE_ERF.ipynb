{
 "cells": [
  {
   "cell_type": "code",
   "execution_count": 3,
   "metadata": {},
   "outputs": [],
   "source": [
    "import mne\n",
    "import numpy as np\n",
    "import os.path as op\n",
    "from tools import files\n",
    "from scipy.stats import trim_mean, ttest_1samp, sem\n",
    "%matplotlib qt"
   ]
  },
  {
   "cell_type": "code",
   "execution_count": 4,
   "metadata": {},
   "outputs": [],
   "source": [
    "# functions\n",
    "trim = lambda x: trim_mean(x, 0.01, axis=0)"
   ]
  },
  {
   "cell_type": "code",
   "execution_count": 5,
   "metadata": {},
   "outputs": [],
   "source": [
    "main_path = op.join(\"/cubric\", \"scratch\", \"c1557187\", \"act_mis\")\n",
    "meg_path = op.join(main_path, \"MEG\")"
   ]
  },
  {
   "cell_type": "code",
   "execution_count": 6,
   "metadata": {},
   "outputs": [
    {
     "name": "stdout",
     "output_type": "stream",
     "text": [
      "['0001', '0003', '0004', '0008', '0009', '0014', '0015', '0016', '0017', '0019', '0021', '0027', '0030', '0032', '0034', '0035', '0038', '0039', '0040', '0041', '0042', '0043']\n"
     ]
    }
   ],
   "source": [
    "participants = files.get_folders_files(meg_path, wp=False)[0]\n",
    "participants.sort()\n",
    "print(participants)"
   ]
  },
  {
   "cell_type": "code",
   "execution_count": 7,
   "metadata": {},
   "outputs": [],
   "source": [
    "cond = [\"reg\", \"odd\", \"diff\"]\n",
    "data = {i: [] for i in cond}"
   ]
  },
  {
   "cell_type": "code",
   "execution_count": 10,
   "metadata": {
    "scrolled": true
   },
   "outputs": [
    {
     "name": "stdout",
     "output_type": "stream",
     "text": [
      "['/cubric/scratch/c1557187/act_mis/MEG/0001/new_v1/epochs-TD-000-epo.fif', '/cubric/scratch/c1557187/act_mis/MEG/0001/new_v1/epochs-TD-001-epo.fif']\n",
      "['/cubric/scratch/c1557187/act_mis/MEG/0003/new_v1/epochs-TD-000-epo.fif', '/cubric/scratch/c1557187/act_mis/MEG/0003/new_v1/epochs-TD-001-epo.fif']\n",
      "['/cubric/scratch/c1557187/act_mis/MEG/0004/new_v1/epochs-TD-000-epo.fif', '/cubric/scratch/c1557187/act_mis/MEG/0004/new_v1/epochs-TD-001-epo.fif']\n",
      "['/cubric/scratch/c1557187/act_mis/MEG/0008/new_v1/epochs-TD-001-epo.fif', '/cubric/scratch/c1557187/act_mis/MEG/0008/new_v1/epochs-TD-000-epo.fif']\n",
      "['/cubric/scratch/c1557187/act_mis/MEG/0009/new_v1/epochs-TD-000-epo.fif', '/cubric/scratch/c1557187/act_mis/MEG/0009/new_v1/epochs-TD-001-epo.fif']\n",
      "['/cubric/scratch/c1557187/act_mis/MEG/0014/new_v1/epochs-TD-001-epo.fif', '/cubric/scratch/c1557187/act_mis/MEG/0014/new_v1/epochs-TD-000-epo.fif']\n",
      "['/cubric/scratch/c1557187/act_mis/MEG/0015/new_v1/epochs-TD-001-epo.fif', '/cubric/scratch/c1557187/act_mis/MEG/0015/new_v1/epochs-TD-000-epo.fif']\n",
      "['/cubric/scratch/c1557187/act_mis/MEG/0016/new_v1/epochs-TD-001-epo.fif', '/cubric/scratch/c1557187/act_mis/MEG/0016/new_v1/epochs-TD-000-epo.fif']\n",
      "['/cubric/scratch/c1557187/act_mis/MEG/0017/new_v1/epochs-TD-000-epo.fif', '/cubric/scratch/c1557187/act_mis/MEG/0017/new_v1/epochs-TD-001-epo.fif']\n",
      "['/cubric/scratch/c1557187/act_mis/MEG/0019/new_v1/epochs-TD-001-epo.fif', '/cubric/scratch/c1557187/act_mis/MEG/0019/new_v1/epochs-TD-000-epo.fif']\n",
      "['/cubric/scratch/c1557187/act_mis/MEG/0021/new_v1/epochs-TD-000-epo.fif', '/cubric/scratch/c1557187/act_mis/MEG/0021/new_v1/epochs-TD-001-epo.fif']\n",
      "['/cubric/scratch/c1557187/act_mis/MEG/0027/new_v1/epochs-TD-001-epo.fif', '/cubric/scratch/c1557187/act_mis/MEG/0027/new_v1/epochs-TD-000-epo.fif']\n",
      "['/cubric/scratch/c1557187/act_mis/MEG/0030/new_v1/epochs-TD-000-epo.fif', '/cubric/scratch/c1557187/act_mis/MEG/0030/new_v1/epochs-TD-001-epo.fif']\n",
      "['/cubric/scratch/c1557187/act_mis/MEG/0032/new_v1/epochs-TD-001-epo.fif', '/cubric/scratch/c1557187/act_mis/MEG/0032/new_v1/epochs-TD-000-epo.fif']\n",
      "['/cubric/scratch/c1557187/act_mis/MEG/0034/new_v1/epochs-TD-000-epo.fif', '/cubric/scratch/c1557187/act_mis/MEG/0034/new_v1/epochs-TD-001-epo.fif']\n",
      "['/cubric/scratch/c1557187/act_mis/MEG/0035/new_v1/epochs-TD-000-epo.fif', '/cubric/scratch/c1557187/act_mis/MEG/0035/new_v1/epochs-TD-001-epo.fif']\n",
      "['/cubric/scratch/c1557187/act_mis/MEG/0038/new_v1/epochs-TD-000-epo.fif', '/cubric/scratch/c1557187/act_mis/MEG/0038/new_v1/epochs-TD-001-epo.fif']\n",
      "['/cubric/scratch/c1557187/act_mis/MEG/0039/new_v1/epochs-TD-001-epo.fif', '/cubric/scratch/c1557187/act_mis/MEG/0039/new_v1/epochs-TD-000-epo.fif']\n",
      "['/cubric/scratch/c1557187/act_mis/MEG/0040/new_v1/epochs-TD-001-epo.fif', '/cubric/scratch/c1557187/act_mis/MEG/0040/new_v1/epochs-TD-000-epo.fif']\n",
      "['/cubric/scratch/c1557187/act_mis/MEG/0041/new_v1/epochs-TD-001-epo.fif', '/cubric/scratch/c1557187/act_mis/MEG/0041/new_v1/epochs-TD-000-epo.fif']\n",
      "['/cubric/scratch/c1557187/act_mis/MEG/0042/new_v1/epochs-TD-001-epo.fif', '/cubric/scratch/c1557187/act_mis/MEG/0042/new_v1/epochs-TD-000-epo.fif']\n",
      "['/cubric/scratch/c1557187/act_mis/MEG/0043/new_v1/epochs-TD-001-epo.fif', '/cubric/scratch/c1557187/act_mis/MEG/0043/new_v1/epochs-TD-000-epo.fif']\n"
     ]
    }
   ],
   "source": [
    "for pp in participants:\n",
    "    participant_path = op.join(meg_path, pp, \"new_v1\")\n",
    "    participant_files = files.get_files(participant_path, \"epochs-TD\", \"-epo.fif\")[2]\n",
    "    print(participant_files)\n",
    "    for i in participant_files:\n",
    "        epochs = mne.read_epochs(i, preload=True)\n",
    "        epochs = epochs.apply_baseline((-0.1, 0.0))\n",
    "        epochs = epochs.apply_baseline((1.6, 2.6))\n",
    "        reg = epochs[\"30\"].average(method=trim)\n",
    "        odd = epochs[\"40\"].average(method=trim)\n",
    "        diff = mne.combine_evoked([-reg, odd], weights=\"equal\")\n",
    "\n",
    "        data[\"reg\"].append(reg.data)\n",
    "        data[\"odd\"].append(odd.data)\n",
    "        data[\"diff\"].append(diff.data)"
   ]
  },
  {
   "cell_type": "code",
   "execution_count": 12,
   "metadata": {},
   "outputs": [],
   "source": [
    "results_path = op.join(main_path, \"RESULTS\", \"TD_SENSOR_SPACE\")\n",
    "data_analysis_save = op.join(results_path, \"data_analysis.npy\")\n",
    "data_viz_save = op.join(results_path, \"data_viz.npy\")"
   ]
  },
  {
   "cell_type": "code",
   "execution_count": null,
   "metadata": {},
   "outputs": [],
   "source": [
    "{ for i in data.keys()}"
   ]
  }
 ],
 "metadata": {
  "kernelspec": {
   "display_name": "Python 3",
   "language": "python",
   "name": "python3"
  },
  "language_info": {
   "codemirror_mode": {
    "name": "ipython",
    "version": 3
   },
   "file_extension": ".py",
   "mimetype": "text/x-python",
   "name": "python",
   "nbconvert_exporter": "python",
   "pygments_lexer": "ipython3",
   "version": "3.6.8"
  }
 },
 "nbformat": 4,
 "nbformat_minor": 2
}
