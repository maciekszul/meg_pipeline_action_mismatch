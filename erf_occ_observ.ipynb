{
 "cells": [
  {
   "cell_type": "code",
   "execution_count": 4,
   "metadata": {},
   "outputs": [],
   "source": [
    "import mne\n",
    "import numpy as np\n",
    "import os.path as op\n",
    "from tools import files\n",
    "from scipy.stats import trim_mean, ttest_1samp, sem\n",
    "%matplotlib qt"
   ]
  },
  {
   "cell_type": "code",
   "execution_count": 5,
   "metadata": {},
   "outputs": [
    {
     "name": "stdout",
     "output_type": "stream",
     "text": [
      "True\n"
     ]
    }
   ],
   "source": [
    "main_path = op.join(\"/cubric\", \"scratch\", \"c1557187\", \"act_mis\")\n",
    "print(op.exists(main_path))\n",
    "meg_path = op.join(main_path, \"MEG\")\n",
    "beh_path = op.join(main_path, \"BEH\")\n",
    "res_means = op.join(main_path, \"RESULTS\", \"means_erf_occ.npy\")"
   ]
  },
  {
   "cell_type": "code",
   "execution_count": 7,
   "metadata": {},
   "outputs": [
    {
     "name": "stdout",
     "output_type": "stream",
     "text": [
      "['0001', '0003', '0004', '0008', '0009', '0014', '0015', '0016', '0017', '0019', '0021', '0027', '0030', '0032', '0034', '0035', '0038', '0039', '0040', '0041', '0043']\n"
     ]
    }
   ],
   "source": [
    "participants = files.get_folders_files(meg_path, wp=False)[0]\n",
    "participants.sort()\n",
    "participants.remove('0042')\n",
    "print(participants)"
   ]
  },
  {
   "cell_type": "code",
   "execution_count": 8,
   "metadata": {},
   "outputs": [],
   "source": [
    "# 110 - \"30\"; 30 - \"40\"\n",
    "cond = [\"regular\", \"odd\", \"odd-regular\", \"regular-odd\"] \n",
    "\n",
    "data = {i: [] for i in cond}"
   ]
  },
  {
   "cell_type": "code",
   "execution_count": null,
   "metadata": {
    "scrolled": true
   },
   "outputs": [
    {
     "name": "stdout",
     "output_type": "stream",
     "text": [
      "<EpochsFIF  |   140 events (all good), -0.5 - 2.5 sec, baseline [-0.5, 0], ~220.4 MB, data loaded,\n",
      " '30': 110\n",
      " '40': 30>\n",
      "<EpochsFIF  |   140 events (all good), -0.5 - 2.5 sec, baseline [-0.5, 0], ~220.4 MB, data loaded,\n",
      " '30': 110\n",
      " '40': 30>\n"
     ]
    }
   ],
   "source": [
    "# single instance of the loop\n",
    "\n",
    "for pp in participants:\n",
    "    participant_path = op.join(meg_path, pp)\n",
    "    participant_files = files.get_files(participant_path, \"all\", \"-epo.fif\")[2]\n",
    "\n",
    "    for i in participant_files:\n",
    "        epochs = mne.read_epochs(i, preload=True)\n",
    "        epochs = epochs.crop(tmin=-0.5, tmax=2.5)\n",
    "        print(epochs)\n",
    "        occipital_sensors = [i for i in epochs.info[\"ch_names\"] if \"O\" in i]\n",
    "        epochs = epochs.pick_channels(occipital_sensors)\n",
    "        epochs = epochs.filter(0, 40, n_jobs=-1)\n",
    "\n",
    "        reg = list(epochs[\"30\"].iter_evoked())\n",
    "        reg_info = reg[0].info\n",
    "        reg = np.array([i.data for i in reg])\n",
    "        reg_tm = trim_mean(reg, 0.05, axis=0)\n",
    "        reg = mne.EvokedArray(reg_tm, reg_info, tmin=-0.5, comment=\"regular\")\n",
    "        odd = list(epochs[\"40\"].iter_evoked())\n",
    "        odd_info = odd[0].info\n",
    "        odd = np.array([i.data for i in odd])\n",
    "        odd_tm = trim_mean(odd, 0.05, axis=0)\n",
    "        odd = mne.EvokedArray(odd_tm, odd_info, tmin=-0.5, comment=\"odd\")\n",
    "        subt0 = mne.combine_evoked([-reg, odd], weights=\"equal\")\n",
    "        subt1 = mne.combine_evoked([reg, -odd], weights=\"equal\")\n",
    "        reg.crop(tmin=1.4)\n",
    "        odd.crop(tmin=1.4)\n",
    "        subt0.crop(tmin=1.4)\n",
    "        subt1.crop(tmin=1.4)\n",
    "        reg = trim_mean(reg.data, 0.05, axis=0)\n",
    "        odd = trim_mean(odd.data, 0.05, axis=0)\n",
    "        subt0 = trim_mean(subt0.data, 0.05, axis=0)\n",
    "        subt1 = trim_mean(subt1.data, 0.05, axis=0)\n",
    "\n",
    "        data[\"regular\"].append(reg)\n",
    "        data[\"odd\"].append(odd)\n",
    "        data[\"odd-regular\"].append(subt0)\n",
    "        data[\"regular-odd\"].append(subt1)"
   ]
  },
  {
   "cell_type": "code",
   "execution_count": 63,
   "metadata": {},
   "outputs": [],
   "source": [
    "data[\"regular\"] = np.vstack(data[\"regular\"])\n",
    "data[\"odd\"] = np.array(data[\"odd\"])\n",
    "data[\"odd-regular\"] = np.array(data[\"odd-regular\"])\n",
    "data[\"regular-odd\"] = np.array(data[\"regular-odd\"])"
   ]
  },
  {
   "cell_type": "code",
   "execution_count": 66,
   "metadata": {},
   "outputs": [],
   "source": [
    "\n",
    "np.save(res_means, data)"
   ]
  },
  {
   "cell_type": "code",
   "execution_count": 29,
   "metadata": {},
   "outputs": [],
   "source": [
    "data = np.load(res_means)"
   ]
  },
  {
   "cell_type": "code",
   "execution_count": 30,
   "metadata": {},
   "outputs": [],
   "source": [
    "data = data.item()"
   ]
  },
  {
   "cell_type": "code",
   "execution_count": 31,
   "metadata": {},
   "outputs": [],
   "source": [
    "results = np.apply_along_axis(ttest_1samp, 0, data[\"odd-regular\"], 0)"
   ]
  },
  {
   "cell_type": "code",
   "execution_count": 32,
   "metadata": {},
   "outputs": [
    {
     "data": {
      "text/plain": [
       "(2, 276)"
      ]
     },
     "execution_count": 32,
     "metadata": {},
     "output_type": "execute_result"
    }
   ],
   "source": [
    "results.shape"
   ]
  },
  {
   "cell_type": "code",
   "execution_count": 43,
   "metadata": {},
   "outputs": [
    {
     "data": {
      "text/plain": [
       "<matplotlib.lines.Line2D at 0x7f20f48fd198>"
      ]
     },
     "execution_count": 43,
     "metadata": {},
     "output_type": "execute_result"
    }
   ],
   "source": [
    "import matplotlib.pylab as plt\n",
    "\n",
    "time = np.linspace(-0.1,1, num=276)\n",
    "\n",
    "mean = trim_mean(data[\"odd-regular\"], 0.05, axis=0)\n",
    "sem_ = sem(data[\"odd-regular\"])\n",
    "\n",
    "plt.plot(time, mean)\n",
    "plt.fill_between(time, mean-sem_, mean+sem_, alpha=0.4)\n",
    "plt.axhline(0)\n",
    "plt.axvline(0)"
   ]
  },
  {
   "cell_type": "code",
   "execution_count": null,
   "metadata": {},
   "outputs": [],
   "source": []
  },
  {
   "cell_type": "code",
   "execution_count": null,
   "metadata": {},
   "outputs": [],
   "source": []
  }
 ],
 "metadata": {
  "kernelspec": {
   "display_name": "Python 3",
   "language": "python",
   "name": "python3"
  },
  "language_info": {
   "codemirror_mode": {
    "name": "ipython",
    "version": 3
   },
   "file_extension": ".py",
   "mimetype": "text/x-python",
   "name": "python",
   "nbconvert_exporter": "python",
   "pygments_lexer": "ipython3",
   "version": "3.6.8"
  }
 },
 "nbformat": 4,
 "nbformat_minor": 2
}
