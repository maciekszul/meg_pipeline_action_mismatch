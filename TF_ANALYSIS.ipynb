{
 "cells": [
  {
   "cell_type": "code",
   "execution_count": 19,
   "metadata": {},
   "outputs": [],
   "source": [
    "import mne\n",
    "import numpy as np\n",
    "import os.path as op\n",
    "from tools import files\n",
    "from scipy.stats import trim_mean, ttest_1samp, sem\n",
    "import matplotlib.pyplot as plt\n",
    "%matplotlib qt"
   ]
  },
  {
   "cell_type": "code",
   "execution_count": 2,
   "metadata": {},
   "outputs": [],
   "source": [
    "# functions\n",
    "trim = lambda x: trim_mean(x, 0.1, axis=0)"
   ]
  },
  {
   "cell_type": "code",
   "execution_count": 3,
   "metadata": {},
   "outputs": [],
   "source": [
    "main_path = op.join(\"/cubric\", \"scratch\", \"c1557187\", \"act_mis\")\n",
    "meg_path = op.join(main_path, \"MEG\")"
   ]
  },
  {
   "cell_type": "code",
   "execution_count": 4,
   "metadata": {},
   "outputs": [
    {
     "name": "stdout",
     "output_type": "stream",
     "text": [
      "['0001', '0003', '0008', '0014', '0015', '0016', '0017', '0019', '0021', '0027', '0030', '0032', '0034', '0035', '0038', '0039', '0040', '0041', '0043']\n"
     ]
    }
   ],
   "source": [
    "participants = files.get_folders_files(meg_path, wp=False)[0]\n",
    "participants.sort()\n",
    "participants.remove(\"0004\")\n",
    "participants.remove(\"0009\")\n",
    "participants.remove(\"0042\")\n",
    "print(participants)"
   ]
  },
  {
   "cell_type": "code",
   "execution_count": 6,
   "metadata": {},
   "outputs": [],
   "source": [
    "results_path = op.join(main_path, \"RESULTS\", \"TF_SENSOR_SPACE\")\n",
    "files.make_folder(results_path)\n",
    "data_analysis_save = op.join(results_path, \"data_analysis.npy\")\n",
    "data_viz_save = op.join(results_path, \"data_viz.npy\")"
   ]
  },
  {
   "cell_type": "code",
   "execution_count": 7,
   "metadata": {},
   "outputs": [],
   "source": [
    "cond = [\"reg\", \"odd\", \"diff\"]\n",
    "data = {i: [] for i in cond}"
   ]
  },
  {
   "cell_type": "code",
   "execution_count": 8,
   "metadata": {},
   "outputs": [],
   "source": [
    "pp = participants[0]"
   ]
  },
  {
   "cell_type": "code",
   "execution_count": 11,
   "metadata": {},
   "outputs": [],
   "source": [
    "participant_path = op.join(meg_path, pp, \"new_v1\")\n",
    "participant_files = files.get_files(participant_path, \"epochs-TF\", \"-epo.fif\")[2]\n",
    "i = participant_files[0]"
   ]
  },
  {
   "cell_type": "code",
   "execution_count": 12,
   "metadata": {},
   "outputs": [],
   "source": [
    "epochs = mne.read_epochs(i, preload=True)"
   ]
  },
  {
   "cell_type": "code",
   "execution_count": 57,
   "metadata": {},
   "outputs": [],
   "source": [
    "freqs = np.linspace(0.1, 80, num=36)\n",
    "n_cycles = freqs / 2.\n",
    "power_reg = mne.time_frequency.tfr_multitaper(\n",
    "    epochs[\"40\"], \n",
    "    freqs=freqs, \n",
    "    n_cycles=n_cycles, \n",
    "    use_fft=True,\n",
    "    return_itc=False, \n",
    "    decim=1, \n",
    "    n_jobs=-1,\n",
    "    average=False\n",
    ")\n",
    "power_odd = mne.time_frequency.tfr_multitaper(\n",
    "    epochs[\"40\"], \n",
    "    freqs=freqs, \n",
    "    n_cycles=n_cycles, \n",
    "    use_fft=True,\n",
    "    return_itc=False, \n",
    "    decim=1, \n",
    "    n_jobs=-1,\n",
    "    average=False\n",
    ")"
   ]
  },
  {
   "cell_type": "code",
   "execution_count": 58,
   "metadata": {},
   "outputs": [],
   "source": [
    "power_reg = power_reg.average().apply_baseline((-0.5, 0.0), mode=\"logratio\")\n",
    "power_odd = power_odd.average().apply_baseline((-0.5, 0.0), mode=\"logratio\")"
   ]
  },
  {
   "cell_type": "code",
   "execution_count": 59,
   "metadata": {},
   "outputs": [],
   "source": [
    "power_diff = power_reg"
   ]
  },
  {
   "cell_type": "code",
   "execution_count": 61,
   "metadata": {},
   "outputs": [],
   "source": [
    "power_diff.data = power_odd.data - power_reg.data"
   ]
  },
  {
   "cell_type": "code",
   "execution_count": 64,
   "metadata": {},
   "outputs": [
    {
     "data": {
      "image/png": "[encoded data removed]",
      "text/plain": [
       "<Figure size 640x480 with 2 Axes>"
      ]
     },
     "execution_count": 64,
     "metadata": {},
     "output_type": "execute_result"
    }
   ],
   "source": [
    "power_diff"
   ]
  },
  {
   "cell_type": "code",
   "execution_count": null,
   "metadata": {},
   "outputs": [],
   "source": []
  }
 ],
 "metadata": {
  "kernelspec": {
   "display_name": "Python 3",
   "language": "python",
   "name": "python3"
  },
  "language_info": {
   "codemirror_mode": {
    "name": "ipython",
    "version": 3
   },
   "file_extension": ".py",
   "mimetype": "text/x-python",
   "name": "python",
   "nbconvert_exporter": "python",
   "pygments_lexer": "ipython3",
   "version": "3.6.8"
  }
 },
 "nbformat": 4,
 "nbformat_minor": 2
}
