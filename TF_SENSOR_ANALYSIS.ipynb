{
 "cells": [
  {
   "cell_type": "code",
   "execution_count": 3,
   "metadata": {},
   "outputs": [],
   "source": [
    "import mne\n",
    "from tqdm import tqdm\n",
    "from mne.time_frequency import tfr_morlet, psd_multitaper\n",
    "import numpy as np\n",
    "import os.path as op\n",
    "from tools import files\n",
    "from scipy.stats import trim_mean, ttest_1samp, sem\n",
    "%matplotlib qt"
   ]
  },
  {
   "cell_type": "code",
   "execution_count": 4,
   "metadata": {},
   "outputs": [],
   "source": [
    "trim = lambda x: trim_mean(x, 0.01, axis=0)"
   ]
  },
  {
   "cell_type": "code",
   "execution_count": 5,
   "metadata": {},
   "outputs": [
    {
     "name": "stdout",
     "output_type": "stream",
     "text": [
      "True\n"
     ]
    }
   ],
   "source": [
    "main_path = op.join(\"/cubric\", \"scratch\", \"c1557187\", \"act_mis\")\n",
    "print(op.exists(main_path))\n",
    "meg_path = op.join(main_path, \"MEG\")\n",
    "beh_path = op.join(main_path, \"BEH\")\n",
    "res_means = op.join(main_path, \"RESULTS\", \"means_erf_occ.npy\")"
   ]
  },
  {
   "cell_type": "code",
   "execution_count": 6,
   "metadata": {},
   "outputs": [
    {
     "name": "stdout",
     "output_type": "stream",
     "text": [
      "['0001', '0003', '0008', '0014', '0015', '0016', '0017', '0019', '0021', '0027', '0030', '0032', '0034', '0035', '0038', '0039', '0040', '0041', '0043']\n"
     ]
    }
   ],
   "source": [
    "participants = files.get_folders_files(meg_path, wp=False)[0]\n",
    "participants.sort()\n",
    "participants.remove(\"0042\")\n",
    "participants.remove(\"0004\")\n",
    "participants.remove(\"0009\")\n",
    "print(participants)"
   ]
  },
  {
   "cell_type": "code",
   "execution_count": 7,
   "metadata": {},
   "outputs": [],
   "source": [
    "cond = [\"reg\", \"odd\"]\n",
    "data = {i: [] for i in cond}"
   ]
  },
  {
   "cell_type": "code",
   "execution_count": 8,
   "metadata": {},
   "outputs": [
    {
     "name": "stderr",
     "output_type": "stream",
     "text": [
      "100%|██████████| 19/19 [13:34<00:00, 42.88s/it]\n"
     ]
    }
   ],
   "source": [
    "for pp in tqdm(participants):\n",
    "    participant_path = op.join(meg_path, pp)\n",
    "    participant_files = files.get_files(participant_path, \"all-\", \"-epo.fif\")[2]\n",
    "    for i in participant_files:\n",
    "        epochs = mne.read_epochs(i, preload=True)\n",
    "        epochs.shift_time(-1.6)\n",
    "        epochs.baseline = [-0.5,0]\n",
    "        epochs = epochs.crop(tmin=-0.5, tmax=1)\n",
    "        epochs = epochs.filter(0.1, 90, method=\"fir\",  n_jobs=-1)\n",
    "\n",
    "        freqs = np.linspace(0.1, 90, num=36)\n",
    "        n_cycles = freqs / 2.  # different number of cycle per frequency\n",
    "        power_reg = tfr_morlet(\n",
    "            epochs[\"30\"], \n",
    "            freqs=freqs, \n",
    "            n_cycles=n_cycles, \n",
    "            use_fft=True,\n",
    "            return_itc=False, \n",
    "            decim=2, \n",
    "            n_jobs=-1,\n",
    "            average=False\n",
    "        )\n",
    "        power_reg.apply_baseline(baseline=(None, 0), mode=\"logratio\")\n",
    "        power_reg = power_reg.average()\n",
    "        data[\"reg\"].append(power_reg)\n",
    "\n",
    "        power_odd = tfr_morlet(\n",
    "            epochs[\"40\"], \n",
    "            freqs=freqs, \n",
    "            n_cycles=n_cycles, \n",
    "            use_fft=True,\n",
    "            return_itc=False, \n",
    "            decim=2, \n",
    "            n_jobs=-1,\n",
    "            average=False\n",
    "        )\n",
    "        power_odd.apply_baseline(baseline=(None, 0), mode=\"logratio\")\n",
    "        power_odd = power_odd.average()\n",
    "        data[\"odd\"].append(power_odd)"
   ]
  },
  {
   "cell_type": "code",
   "execution_count": 21,
   "metadata": {},
   "outputs": [],
   "source": [
    "regular_to_avg = np.array([i.data for i in data[\"reg\"]])\n",
    "odd_to_avg = np.array([i.data for i in data[\"odd\"]])"
   ]
  },
  {
   "cell_type": "code",
   "execution_count": 22,
   "metadata": {},
   "outputs": [],
   "source": [
    "info_donor = data[\"reg\"][0]\n",
    "regular_mean = trim_mean(regular_to_avg, 0.01, axis=0)\n",
    "odd_mean = trim_mean(odd_to_avg, 0.01, axis=0)"
   ]
  },
  {
   "cell_type": "code",
   "execution_count": 26,
   "metadata": {},
   "outputs": [],
   "source": [
    "info_donor.data = regular_mean\n",
    "info_donor.plot_topo();"
   ]
  },
  {
   "cell_type": "code",
   "execution_count": 24,
   "metadata": {},
   "outputs": [],
   "source": [
    "info_donor.data = odd_mean\n",
    "info_donor.plot_topo();"
   ]
  },
  {
   "cell_type": "code",
   "execution_count": 25,
   "metadata": {},
   "outputs": [],
   "source": [
    "info_donor.data = odd_mean - regular_mean\n",
    "info_donor.plot_topo();"
   ]
  },
  {
   "cell_type": "code",
   "execution_count": null,
   "metadata": {},
   "outputs": [],
   "source": []
  }
 ],
 "metadata": {
  "kernelspec": {
   "display_name": "Python 3",
   "language": "python",
   "name": "python3"
  },
  "language_info": {
   "codemirror_mode": {
    "name": "ipython",
    "version": 3
   },
   "file_extension": ".py",
   "mimetype": "text/x-python",
   "name": "python",
   "nbconvert_exporter": "python",
   "pygments_lexer": "ipython3",
   "version": "3.6.8"
  }
 },
 "nbformat": 4,
 "nbformat_minor": 2
}
