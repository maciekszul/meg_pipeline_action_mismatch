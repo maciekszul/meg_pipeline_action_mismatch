{
 "cells": [
  {
   "cell_type": "code",
   "execution_count": 2,
   "metadata": {},
   "outputs": [
    {
     "name": "stdout",
     "output_type": "stream",
     "text": [
      "Using matplotlib backend: Qt5Agg\n"
     ]
    }
   ],
   "source": [
    "import mne\n",
    "import os.path as op\n",
    "from scipy.stats import *\n",
    "%matplotlib"
   ]
  },
  {
   "cell_type": "code",
   "execution_count": 3,
   "metadata": {},
   "outputs": [],
   "source": [
    "path = \"/cubric/scratch/c1557187/act_mis/\"\n",
    "subj = \"0009\""
   ]
  },
  {
   "cell_type": "code",
   "execution_count": 4,
   "metadata": {},
   "outputs": [],
   "source": [
    "epochs = mne.read_epochs(op.join(path, \"MEG\", subj, \"all-000-epo.fif\"))\n",
    "inv = mne.minimum_norm.read_inverse_operator(op.join(path, \"MEG\", subj, \"inv-000-inv.fif\"))"
   ]
  },
  {
   "cell_type": "code",
   "execution_count": null,
   "metadata": {},
   "outputs": [],
   "source": [
    "epochs"
   ]
  },
  {
   "cell_type": "code",
   "execution_count": 5,
   "metadata": {},
   "outputs": [],
   "source": [
    "trig_dict = {\n",
    "    \"standard\": [\"30\"],\n",
    "    \"odd\": [\"40\"]\n",
    "}\n",
    "\n",
    "# movement = mne.EvokedArray(trim_mean(epochs, 0.1, axis=0), epochs.info).filter(1,40)\n",
    "# movement.crop(-0.5, 1.5)\n",
    "\n",
    "# all_stuff = mne.EvokedArray(trim_mean(epochs, 0.1, axis=0), epochs.info, tmin=-0.5).filter(1,40)\n",
    "\n",
    "observation = {}\n",
    "\n",
    "for k in trig_dict.keys():\n",
    "    i = trig_dict[k]\n",
    "    evo = mne.EvokedArray(trim_mean(epochs[i].get_data(), 0.1, axis=0),epochs.info).filter(1,40)\n",
    "    evo.crop(1.4, 2.5)\n",
    "    evo.shift_time(-1.5)    \n",
    "    observation[k] = evo"
   ]
  },
  {
   "cell_type": "code",
   "execution_count": 6,
   "metadata": {},
   "outputs": [],
   "source": [
    "# sensor = \"MZC02-3305\"\n",
    "# mne.viz.plot_compare_evokeds(observation, observation[\"standard\"].ch_names.index(sensor));\n",
    "diff = mne.combine_evoked([observation[\"standard\"], - observation[\"odd\"]], weights=\"equal\")"
   ]
  },
  {
   "cell_type": "code",
   "execution_count": 7,
   "metadata": {},
   "outputs": [
    {
     "name": "stdout",
     "output_type": "stream",
     "text": [
      "Preparing the inverse operator for use...\n",
      "    Scaled noise and source covariance from nave = 1 to nave = 2\n",
      "    Created the regularized inverter\n",
      "    The projection vectors do not apply to these channels.\n",
      "    Created the whitener using a noise covariance matrix with rank 262 (12 small eigenvalues omitted)\n",
      "    Computing noise-normalization factors (dSPM)...\n",
      "[done]\n",
      "Applying inverse operator to \"0.500 * unknown + 0.500 * -unknown\"...\n",
      "    Picked 274 channels from the data\n",
      "    Computing inverse...\n",
      "    Eigenleads need to be weighted ...\n",
      "    Computing residual...\n",
      "    Explained  37.5% variance\n",
      "    Combining the current components...\n",
      "    dSPM...\n",
      "[done]\n"
     ]
    }
   ],
   "source": [
    "method_dict = {\n",
    "    \"dSPM\": (8, 12, 15),\n",
    "    \"sLORETA\": (3, 5, 7),\n",
    "    \"eLORETA\": (0.75, 1.25, 1.75)\n",
    "}\n",
    "\n",
    "method = \"dSPM\"\n",
    "snr = 3.\n",
    "lambda2 = 1. / snr ** 2\n",
    "lims = method_dict[method]\n",
    "\n",
    "stc = mne.minimum_norm.apply_inverse(\n",
    "    diff,\n",
    "    inv,\n",
    "    lambda2,\n",
    "    method=method,\n",
    "    pick_ori=None,\n",
    "    verbose=True\n",
    ")"
   ]
  },
  {
   "cell_type": "code",
   "execution_count": null,
   "metadata": {},
   "outputs": [],
   "source": [
    "stc.plot(subjects_dir=op.join(path, \"MRI\"), subject=\"0009\", time_viewer=True, hemi=\"both\");"
   ]
  },
  {
   "cell_type": "code",
   "execution_count": null,
   "metadata": {},
   "outputs": [],
   "source": []
  }
 ],
 "metadata": {
  "kernelspec": {
   "display_name": "Python 3",
   "language": "python",
   "name": "python3"
  },
  "language_info": {
   "codemirror_mode": {
    "name": "ipython",
    "version": 3
   },
   "file_extension": ".py",
   "mimetype": "text/x-python",
   "name": "python",
   "nbconvert_exporter": "python",
   "pygments_lexer": "ipython3",
   "version": "3.6.8"
  }
 },
 "nbformat": 4,
 "nbformat_minor": 2
}
