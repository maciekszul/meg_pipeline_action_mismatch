{
 "cells": [
  {
   "cell_type": "code",
   "execution_count": 3,
   "metadata": {},
   "outputs": [],
   "source": [
    "import mne\n",
    "import os.path as op\n",
    "from tools import files\n",
    "import numpy as np\n",
    "import matplotlib.pylab as plt\n",
    "from scipy.stats import trim_mean, ttest_1samp, sem\n",
    "%matplotlib qt"
   ]
  },
  {
   "cell_type": "code",
   "execution_count": 4,
   "metadata": {},
   "outputs": [],
   "source": [
    "# functions\n",
    "trim = lambda x: trim_mean(x, 0.1, axis=0)"
   ]
  },
  {
   "cell_type": "code",
   "execution_count": 5,
   "metadata": {},
   "outputs": [],
   "source": [
    "main_path = op.join(\"/cubric\", \"scratch\", \"c1557187\", \"act_mis\")\n",
    "meg_path = op.join(main_path, \"MEG\")\n",
    "fs_path = \"/cubric/scratch/c1557187/MRI_337/FS_OUTPUT\""
   ]
  },
  {
   "cell_type": "code",
   "execution_count": 6,
   "metadata": {},
   "outputs": [],
   "source": [
    "participants = files.get_folders_files(meg_path, wp=False)[0]\n",
    "participants.sort()\n",
    "participant = participants[0]\n",
    "pp_path = op.join(meg_path, participant, \"new_v1\")"
   ]
  },
  {
   "cell_type": "code",
   "execution_count": 7,
   "metadata": {},
   "outputs": [],
   "source": [
    "results_path = op.join(main_path, \"RESULTS\", \"WHATEVER_SOURCE_SPACE\")\n",
    "files.make_folder(results_path)"
   ]
  },
  {
   "cell_type": "code",
   "execution_count": 8,
   "metadata": {},
   "outputs": [],
   "source": [
    "all_epochs = files.get_files(pp_path, \"epochs-TD\", \"-epo.fif\")[2]\n",
    "all_epochs.sort()\n",
    "fwd_solution = files.get_files(pp_path, \"\", \"-fwd.fif\")[2]\n",
    "fwd_solution.sort()\n",
    "noise_cov = files.get_files(pp_path, \"epochs-TD\", \"-cov.fif\")[2]\n",
    "noise_cov.sort()"
   ]
  },
  {
   "cell_type": "code",
   "execution_count": 9,
   "metadata": {},
   "outputs": [],
   "source": [
    "ix = 0"
   ]
  },
  {
   "cell_type": "code",
   "execution_count": 10,
   "metadata": {},
   "outputs": [],
   "source": [
    "epochs = mne.read_epochs(all_epochs[ix])\n",
    "cov = mne.read_cov(noise_cov[ix])\n",
    "fwd = mne.read_forward_solution(fwd_solution[ix])"
   ]
  },
  {
   "cell_type": "code",
   "execution_count": 12,
   "metadata": {},
   "outputs": [],
   "source": [
    "reg_avg = epochs[\"30\"].average(method=trim)\n",
    "odd_avg = epochs[\"40\"].average(method=trim)"
   ]
  },
  {
   "cell_type": "code",
   "execution_count": 13,
   "metadata": {},
   "outputs": [],
   "source": [
    "inverse_operator = mne.minimum_norm.make_inverse_operator(\n",
    "    epochs.info,\n",
    "    fwd,\n",
    "    cov,\n",
    "    loose=0.2,\n",
    "    depth=0.8\n",
    ")"
   ]
  },
  {
   "cell_type": "code",
   "execution_count": 14,
   "metadata": {},
   "outputs": [],
   "source": [
    "diff = mne.combine_evoked([odd_avg, -reg_avg], weights=[30/140, 110/140])"
   ]
  },
  {
   "cell_type": "code",
   "execution_count": 15,
   "metadata": {},
   "outputs": [],
   "source": [
    "regular_epochs = mne.minimum_norm.apply_inverse(\n",
    "    diff,\n",
    "    inverse_operator,\n",
    "    lambda2= 1/3**2,\n",
    "    method=\"dSPM\"\n",
    ")"
   ]
  },
  {
   "cell_type": "code",
   "execution_count": 16,
   "metadata": {},
   "outputs": [],
   "source": [
    "surfer_kwargs = dict(\n",
    "    hemi=\"both\",\n",
    "    subjects_dir=fs_path,\n",
    "    subject=participant,\n",
    "    views='lateral',\n",
    "    time_unit=\"s\",\n",
    "    size=(800, 800),\n",
    "    smoothing_steps=5,\n",
    "    time_viewer=True\n",
    ")"
   ]
  },
  {
   "cell_type": "code",
   "execution_count": null,
   "metadata": {},
   "outputs": [],
   "source": [
    "brain = regular_epochs.plot(**surfer_kwargs)"
   ]
  },
  {
   "cell_type": "code",
   "execution_count": null,
   "metadata": {},
   "outputs": [],
   "source": [
    "brain.add_foci(vert_n, coords_as_verts=True, hemi='lh', color='blue',\n",
    "               scale_factor=0.6, alpha=0.5)"
   ]
  },
  {
   "cell_type": "code",
   "execution_count": 13,
   "metadata": {},
   "outputs": [],
   "source": [
    "src = mne.setup_source_space(\n",
    "    subject=\"fsaverage\",\n",
    "    subjects_dir=fs_path,\n",
    "    spacing=\"ico4\",\n",
    "    add_dist=False,\n",
    "    n_jobs=2\n",
    ")"
   ]
  },
  {
   "cell_type": "code",
   "execution_count": 14,
   "metadata": {},
   "outputs": [],
   "source": [
    "src[0][\"subject_his_id\"]= \"0001\"\n",
    "src[1][\"subject_his_id\"]= \"0001\"\n"
   ]
  },
  {
   "cell_type": "code",
   "execution_count": 17,
   "metadata": {},
   "outputs": [],
   "source": [
    "morph = mne.compute_source_morph(\n",
    "    regular_epochs, \n",
    "    subject_from=participant,\n",
    "    subject_to=\"fsaverage\",\n",
    "    subjects_dir=fs_path\n",
    ")"
   ]
  },
  {
   "cell_type": "code",
   "execution_count": 19,
   "metadata": {},
   "outputs": [],
   "source": [
    "diff_fsaverage = morph.apply(regular_epochs)"
   ]
  },
  {
   "cell_type": "code",
   "execution_count": 20,
   "metadata": {},
   "outputs": [],
   "source": [
    "surfer_kwargs = dict(\n",
    "    hemi=\"both\",\n",
    "    subjects_dir=fs_path,\n",
    "    subject=\"fsaverage\",\n",
    "    views='lateral',\n",
    "    time_unit=\"s\",\n",
    "    size=(800, 800),\n",
    "    smoothing_steps=5,\n",
    "    time_viewer=True\n",
    ")"
   ]
  },
  {
   "cell_type": "code",
   "execution_count": null,
   "metadata": {},
   "outputs": [],
   "source": [
    "diff_fsaverage.plot(**surfer_kwargs);"
   ]
  },
  {
   "cell_type": "code",
   "execution_count": null,
   "metadata": {},
   "outputs": [],
   "source": [
    "s"
   ]
  },
  {
   "cell_type": "code",
   "execution_count": null,
   "metadata": {},
   "outputs": [],
   "source": []
  }
 ],
 "metadata": {
  "kernelspec": {
   "display_name": "Python 3",
   "language": "python",
   "name": "python3"
  },
  "language_info": {
   "codemirror_mode": {
    "name": "ipython",
    "version": 3
   },
   "file_extension": ".py",
   "mimetype": "text/x-python",
   "name": "python",
   "nbconvert_exporter": "python",
   "pygments_lexer": "ipython3",
   "version": "3.6.8"
  }
 },
 "nbformat": 4,
 "nbformat_minor": 2
}
