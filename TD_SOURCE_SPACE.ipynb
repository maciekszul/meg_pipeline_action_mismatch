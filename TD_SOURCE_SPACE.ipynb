{
 "cells": [
  {
   "cell_type": "code",
   "execution_count": 1,
   "metadata": {},
   "outputs": [],
   "source": [
    "import mne\n",
    "import os.path as op\n",
    "from tools import files\n",
    "import numpy as np\n",
    "import matplotlib.pylab as plt\n",
    "from scipy.stats import trim_mean, ttest_1samp, sem\n",
    "%matplotlib qt"
   ]
  },
  {
   "cell_type": "code",
   "execution_count": 2,
   "metadata": {},
   "outputs": [],
   "source": [
    "# functions\n",
    "trim = lambda x: trim_mean(x, 0.1, axis=0)"
   ]
  },
  {
   "cell_type": "code",
   "execution_count": 3,
   "metadata": {},
   "outputs": [],
   "source": [
    "main_path = op.join(\"/cubric\", \"scratch\", \"c1557187\", \"act_mis\")\n",
    "meg_path = op.join(main_path, \"MEG\")\n",
    "fs_path = \"/cubric/scratch/c1557187/MRI_337/FS_OUTPUT\"\n",
    "results_path = op.join(main_path, \"RESULTS\", \"WHATEVER_SOURCE_SPACE\")"
   ]
  },
  {
   "cell_type": "code",
   "execution_count": 4,
   "metadata": {},
   "outputs": [],
   "source": [
    "participants = files.get_folders_files(meg_path, wp=False)[0]\n",
    "participants.sort()"
   ]
  },
  {
   "cell_type": "code",
   "execution_count": null,
   "metadata": {},
   "outputs": [
    {
     "name": "stdout",
     "output_type": "stream",
     "text": [
      "0001\n",
      "0003\n",
      "0004\n",
      "0008\n",
      "0009\n",
      "0014\n",
      "0015\n",
      "0016\n",
      "0017\n",
      "0019\n",
      "0021\n",
      "0027\n",
      "0030\n",
      "0032\n",
      "0034\n",
      "0035\n",
      "0038\n",
      "0039\n",
      "0040\n",
      "0041\n",
      "0042\n",
      "0043\n"
     ]
    }
   ],
   "source": [
    "for participant in participants:\n",
    "    print(participant)\n",
    "    pp_path = op.join(meg_path, participant, \"new_v1\")\n",
    "    all_epochs = files.get_files(pp_path, \"epochs-TD\", \"-epo.fif\")[2]\n",
    "    all_epochs.sort()\n",
    "    fwd_solution = files.get_files(pp_path, \"\", \"-fwd.fif\")[2]\n",
    "    fwd_solution.sort()\n",
    "    noise_cov = files.get_files(pp_path, \"epochs-TD\", \"-cov.fif\")[2]\n",
    "    noise_cov.sort()\n",
    "    for ix in range(2):\n",
    "        epochs = mne.read_epochs(all_epochs[ix])\n",
    "        cov = mne.read_cov(noise_cov[ix])\n",
    "        fwd = mne.read_forward_solution(fwd_solution[ix])\n",
    "        \n",
    "        reg_avg = epochs[\"30\"].average(method=trim)\n",
    "        odd_avg = epochs[\"40\"].average(method=trim)\n",
    "        diff_avg = mne.combine_evoked([odd_avg, -reg_avg], weights=[30/140, 110/140])\n",
    "        \n",
    "        inverse_operator = mne.minimum_norm.make_inverse_operator(\n",
    "            epochs.info,\n",
    "            fwd,\n",
    "            cov,\n",
    "            loose=0.2,\n",
    "            depth=0.8\n",
    "        )\n",
    "        \n",
    "        reg_stc = mne.minimum_norm.apply_inverse(\n",
    "            reg_avg,\n",
    "            inverse_operator,\n",
    "            lambda2= 1/3**2,\n",
    "            method=\"dSPM\"\n",
    "        )\n",
    "        odd_stc = mne.minimum_norm.apply_inverse(\n",
    "            reg_avg,\n",
    "            inverse_operator,\n",
    "            lambda2= 1/3**2,\n",
    "            method=\"dSPM\"\n",
    "        )\n",
    "        diff_stc = mne.minimum_norm.apply_inverse(\n",
    "            reg_avg,\n",
    "            inverse_operator,\n",
    "            lambda2= 1/3**2,\n",
    "            method=\"dSPM\"\n",
    "        )\n",
    "        \n",
    "        morph = mne.compute_source_morph(\n",
    "            reg_stc, \n",
    "            subject_from=participant,\n",
    "            subject_to=\"fsaverage\",\n",
    "            subjects_dir=fs_path\n",
    "        )\n",
    "        \n",
    "        reg_fsa = morph.apply(reg_stc)\n",
    "        odd_fsa = morph.apply(odd_stc)\n",
    "        diff_fsa = morph.apply(diff_stc)\n",
    "        ix_n = str(ix).zfill(3)\n",
    "        reg_path = op.join(results_path, \"reg-{}-{}\".format(ix_n, participant))\n",
    "        odd_path = op.join(results_path, \"odd-{}-{}\".format(ix_n, participant))\n",
    "        diff_path = op.join(results_path, \"dif-{}-{}\".format(ix_n, participant))\n",
    "        reg_stc.save(reg_path, ftype=\"stc\")\n",
    "        odd_stc.save(odd_path, ftype=\"stc\")\n",
    "        diff_stc.save(diff_path, ftype=\"stc\")\n",
    "        "
   ]
  },
  {
   "cell_type": "code",
   "execution_count": null,
   "metadata": {},
   "outputs": [],
   "source": []
  }
 ],
 "metadata": {
  "kernelspec": {
   "display_name": "Python 3",
   "language": "python",
   "name": "python3"
  },
  "language_info": {
   "codemirror_mode": {
    "name": "ipython",
    "version": 3
   },
   "file_extension": ".py",
   "mimetype": "text/x-python",
   "name": "python",
   "nbconvert_exporter": "python",
   "pygments_lexer": "ipython3",
   "version": "3.6.8"
  }
 },
 "nbformat": 4,
 "nbformat_minor": 2
}
