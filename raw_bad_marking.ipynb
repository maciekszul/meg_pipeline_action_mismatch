{
 "cells": [
  {
   "cell_type": "code",
   "execution_count": 11,
   "metadata": {},
   "outputs": [
    {
     "name": "stdout",
     "output_type": "stream",
     "text": [
      "Using matplotlib backend: Qt5Agg\n"
     ]
    }
   ],
   "source": [
    "import mne\n",
    "from tools import files\n",
    "import os.path as op\n",
    "%matplotlib"
   ]
  },
  {
   "cell_type": "code",
   "execution_count": 12,
   "metadata": {},
   "outputs": [],
   "source": [
    "main_path = op.join(\"/cubric\", \"scratch\", \"c1557187\", \"act_mis\")\n",
    "meg_path = op.join(main_path, \"MEG\")\n",
    "participants = files.get_folders_files(meg_path, wp=False)[0]\n",
    "participants.sort()"
   ]
  },
  {
   "cell_type": "code",
   "execution_count": 54,
   "metadata": {},
   "outputs": [],
   "source": [
    "pp = 7\n",
    "ff = 1\n",
    "files = [\"000\", \"001\"]\n",
    "e_file = \"/cubric/scratch/c1557187/act_mis/MEG/{0}/{1}-eve.fif\".format(participants[pp], files[ff])\n",
    "file = \"/cubric/scratch/c1557187/act_mis/MEG/{0}/raw-{1}-raw.fif\".format(participants[pp], files[ff])\n",
    "events = mne.read_events(e_file, include=[30, 40, 60, 70, 90])\n",
    "col_ev = {\n",
    "    30: \"red\",\n",
    "    40: \"red\",\n",
    "    60: \"blue\",\n",
    "    70: \"blue\",\n",
    "    90: \"black\",\n",
    "}\n",
    "raw = mne.io.read_raw_fif(file, preload=True)\n",
    "raw = raw.pick_types(meg=True, ref_meg=False, eeg=True)\n",
    "raw.plot(group_by=\"selection\", events=events, event_color=col_ev);"
   ]
  },
  {
   "cell_type": "code",
   "execution_count": 50,
   "metadata": {},
   "outputs": [
    {
     "name": "stdout",
     "output_type": "stream",
     "text": [
      "0\n"
     ]
    }
   ],
   "source": [
    "print(len(raw.info[\"bads\"]))\n",
    "raw.save(file, overwrite=True)"
   ]
  },
  {
   "cell_type": "code",
   "execution_count": null,
   "metadata": {},
   "outputs": [],
   "source": []
  }
 ],
 "metadata": {
  "kernelspec": {
   "display_name": "Python 3",
   "language": "python",
   "name": "python3"
  },
  "language_info": {
   "codemirror_mode": {
    "name": "ipython",
    "version": 3
   },
   "file_extension": ".py",
   "mimetype": "text/x-python",
   "name": "python",
   "nbconvert_exporter": "python",
   "pygments_lexer": "ipython3",
   "version": "3.6.8"
  }
 },
 "nbformat": 4,
 "nbformat_minor": 2
}
