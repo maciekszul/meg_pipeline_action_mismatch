{
 "cells": [
  {
   "cell_type": "code",
   "execution_count": 1,
   "metadata": {},
   "outputs": [],
   "source": [
    "import mne\n",
    "import os.path as op\n",
    "from tools import files\n",
    "import numpy as np\n",
    "import matplotlib.pylab as plt\n",
    "from scipy.stats import trim_mean, ttest_1samp, sem\n",
    "%matplotlib qt"
   ]
  },
  {
   "cell_type": "code",
   "execution_count": 2,
   "metadata": {},
   "outputs": [],
   "source": [
    "main_path = op.join(\"/cubric\", \"scratch\", \"c1557187\", \"act_mis\")\n",
    "meg_path = op.join(main_path, \"MEG\")\n",
    "fs_path = \"/cubric/scratch/c1557187/MRI_337/FS_OUTPUT\"\n",
    "results_path = op.join(main_path, \"RESULTS\", \"WHATEVER_SOURCE_SPACE\")"
   ]
  },
  {
   "cell_type": "code",
   "execution_count": 32,
   "metadata": {},
   "outputs": [],
   "source": [
    "dif = files.get_files(results_path, \"dif\", \".stc\", wp=False)[2]\n",
    "dif = np.unique(np.array([i[:-7] for i in dif]))\n",
    "reg = files.get_files(results_path, \"reg\", \".stc\", wp=False)[2]\n",
    "reg = np.unique(np.array([i[:-7] for i in reg]))\n",
    "odd = files.get_files(results_path, \"odd\", \".stc\", wp=False)[2]\n",
    "odd = np.unique(np.array([i[:-7] for i in odd]))"
   ]
  },
  {
   "cell_type": "code",
   "execution_count": 26,
   "metadata": {},
   "outputs": [],
   "source": [
    "dif = dif[:5]"
   ]
  },
  {
   "cell_type": "code",
   "execution_count": 33,
   "metadata": {},
   "outputs": [
    {
     "name": "stdout",
     "output_type": "stream",
     "text": [
      "(5123, 775)\n",
      "(5123, 775)\n",
      "(5124, 775)\n",
      "(5119, 775)\n",
      "(5124, 775)\n",
      "(5121, 775)\n",
      "(5124, 775)\n",
      "(5124, 775)\n",
      "(5119, 775)\n",
      "(5119, 775)\n",
      "(5123, 775)\n",
      "(5121, 775)\n",
      "(5124, 775)\n",
      "(5122, 775)\n",
      "(5124, 775)\n",
      "(5108, 775)\n",
      "(5094, 775)\n",
      "(5123, 775)\n",
      "(5114, 775)\n",
      "(5120, 775)\n",
      "(5124, 775)\n",
      "(5124, 775)\n",
      "(5123, 775)\n",
      "(5123, 775)\n",
      "(5124, 775)\n",
      "(5119, 775)\n",
      "(5124, 775)\n",
      "(5121, 775)\n",
      "(5124, 775)\n",
      "(5124, 775)\n",
      "(5119, 775)\n",
      "(5119, 775)\n",
      "(5123, 775)\n",
      "(5121, 775)\n",
      "(5124, 775)\n",
      "(5122, 775)\n",
      "(5124, 775)\n",
      "(5108, 775)\n",
      "(5094, 775)\n",
      "(5123, 775)\n",
      "(5114, 775)\n",
      "(5120, 775)\n",
      "(5124, 775)\n",
      "(5124, 775)\n"
     ]
    }
   ],
   "source": [
    "X = []\n",
    "for file in dif:\n",
    "    src = mne.read_source_estimate(op.join(results_path, file))\n",
    "    print(src.data.shape)\n",
    "    X.append(src.data.transpose())"
   ]
  },
  {
   "cell_type": "code",
   "execution_count": 36,
   "metadata": {},
   "outputs": [
    {
     "data": {
      "text/plain": [
       "(2562, 775)"
      ]
     },
     "execution_count": 36,
     "metadata": {},
     "output_type": "execute_result"
    }
   ],
   "source": [
    "src.lh_data.shape"
   ]
  },
  {
   "cell_type": "code",
   "execution_count": 25,
   "metadata": {},
   "outputs": [
    {
     "data": {
      "text/plain": [
       "(775, 5123)"
      ]
     },
     "execution_count": 25,
     "metadata": {},
     "output_type": "execute_result"
    }
   ],
   "source": []
  },
  {
   "cell_type": "code",
   "execution_count": null,
   "metadata": {},
   "outputs": [],
   "source": []
  }
 ],
 "metadata": {
  "kernelspec": {
   "display_name": "Python 3",
   "language": "python",
   "name": "python3"
  },
  "language_info": {
   "codemirror_mode": {
    "name": "ipython",
    "version": 3
   },
   "file_extension": ".py",
   "mimetype": "text/x-python",
   "name": "python",
   "nbconvert_exporter": "python",
   "pygments_lexer": "ipython3",
   "version": "3.6.8"
  }
 },
 "nbformat": 4,
 "nbformat_minor": 2
}
