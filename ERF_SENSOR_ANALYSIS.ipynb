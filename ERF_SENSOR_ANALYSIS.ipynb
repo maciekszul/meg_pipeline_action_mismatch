{
 "cells": [
  {
   "cell_type": "code",
   "execution_count": 1,
   "metadata": {},
   "outputs": [],
   "source": [
    "import mne\n",
    "import numpy as np\n",
    "import os.path as op\n",
    "from tools import files\n",
    "from scipy.stats import trim_mean, ttest_1samp, sem\n",
    "%matplotlib qt"
   ]
  },
  {
   "cell_type": "code",
   "execution_count": 2,
   "metadata": {},
   "outputs": [],
   "source": [
    "trim = lambda x: trim_mean(x, 0.01, axis=0)"
   ]
  },
  {
   "cell_type": "code",
   "execution_count": 3,
   "metadata": {},
   "outputs": [
    {
     "name": "stdout",
     "output_type": "stream",
     "text": [
      "True\n"
     ]
    }
   ],
   "source": [
    "main_path = op.join(\"/cubric\", \"scratch\", \"c1557187\", \"act_mis\")\n",
    "print(op.exists(main_path))\n",
    "meg_path = op.join(main_path, \"MEG\")\n",
    "beh_path = op.join(main_path, \"BEH\")\n",
    "res_means = op.join(main_path, \"RESULTS\", \"means_erf_occ.npy\")"
   ]
  },
  {
   "cell_type": "code",
   "execution_count": 4,
   "metadata": {},
   "outputs": [
    {
     "name": "stdout",
     "output_type": "stream",
     "text": [
      "['0001', '0003', '0008', '0014', '0015', '0016', '0017', '0019', '0021', '0027', '0030', '0032', '0034', '0035', '0038', '0039', '0040', '0041', '0043']\n"
     ]
    }
   ],
   "source": [
    "participants = files.get_folders_files(meg_path, wp=False)[0]\n",
    "participants.sort()\n",
    "participants.remove(\"0042\")\n",
    "participants.remove(\"0004\")\n",
    "participants.remove(\"0009\")\n",
    "print(participants)"
   ]
  },
  {
   "cell_type": "code",
   "execution_count": 5,
   "metadata": {},
   "outputs": [],
   "source": [
    "cond = [\"reg\", \"odd\", \"diff\"]\n",
    "data = {i: [] for i in cond}"
   ]
  },
  {
   "cell_type": "code",
   "execution_count": 6,
   "metadata": {},
   "outputs": [],
   "source": [
    "for pp in participants:\n",
    "    participant_path = op.join(meg_path, pp)\n",
    "    participant_files = files.get_files(participant_path, \"ica-obs-\", \"-epo.fif\")[2]\n",
    "    for i in participant_files:\n",
    "        epochs = mne.read_epochs(i, preload=True)\n",
    "        reg = epochs[\"30\"].average(method=trim)\n",
    "        odd = epochs[\"40\"].average(method=trim)\n",
    "        diff = mne.combine_evoked([-reg, odd], weights=\"equal\")\n",
    "\n",
    "        data[\"reg\"].append(reg.data)\n",
    "        data[\"odd\"].append(odd.data)\n",
    "        data[\"diff\"].append(diff.data)"
   ]
  },
  {
   "cell_type": "code",
   "execution_count": 7,
   "metadata": {},
   "outputs": [],
   "source": [
    "np.save(res_means, data)"
   ]
  },
  {
   "cell_type": "markdown",
   "metadata": {},
   "source": [
    "# ANALYSIS"
   ]
  },
  {
   "cell_type": "code",
   "execution_count": null,
   "metadata": {},
   "outputs": [],
   "source": []
  },
  {
   "cell_type": "code",
   "execution_count": 8,
   "metadata": {},
   "outputs": [],
   "source": [
    "data = np.load(res_means)\n",
    "data = data.item()"
   ]
  },
  {
   "cell_type": "code",
   "execution_count": 11,
   "metadata": {},
   "outputs": [],
   "source": [
    "epo = \"/cubric/scratch/c1557187/act_mis/MEG/0016/raw-000-raw.fif\"\n",
    "info = mne.io.read_raw_fif(epo, preload=True).pick_types(meg=True, eeg=True, ref_meg=False).info"
   ]
  },
  {
   "cell_type": "code",
   "execution_count": 12,
   "metadata": {},
   "outputs": [],
   "source": [
    "diff = np.array(data[\"diff\"])\n",
    "diff_mean = trim_mean(diff, 0.01, axis=0)\n",
    "diff_evo = mne.EvokedArray(diff_mean, info, tmin=-0.1)\n",
    "diff_evo = diff_evo.pick_types(eeg=False)"
   ]
  },
  {
   "cell_type": "code",
   "execution_count": 13,
   "metadata": {},
   "outputs": [],
   "source": [
    "# diff_evo.info[\"bads\"] = bads\n",
    "diff_evo.plot_joint();"
   ]
  },
  {
   "cell_type": "code",
   "execution_count": 15,
   "metadata": {},
   "outputs": [],
   "source": [
    "reg = np.array(data[\"reg\"])\n",
    "reg_mean = trim_mean(reg, 0.01, axis=0)\n",
    "reg_evo = mne.EvokedArray(reg_mean, info, tmin=-0.1)\n",
    "reg_evo = reg_evo.pick_types(eeg=False)"
   ]
  },
  {
   "cell_type": "code",
   "execution_count": 16,
   "metadata": {},
   "outputs": [],
   "source": [
    "# reg_evo.info[\"bads\"] = bads\n",
    "reg_evo.plot_joint();"
   ]
  },
  {
   "cell_type": "code",
   "execution_count": 18,
   "metadata": {},
   "outputs": [],
   "source": [
    "odd = np.array(data[\"odd\"])\n",
    "odd_mean = trim_mean(odd, 0.01, axis=0)\n",
    "odd_evo = mne.EvokedArray(odd_mean, info, tmin=-0.1)\n",
    "odd_evo = odd_evo.pick_types(eeg=False)"
   ]
  },
  {
   "cell_type": "code",
   "execution_count": 19,
   "metadata": {},
   "outputs": [],
   "source": [
    "# odd_evo.info[\"bads\"] = bads\n",
    "odd_evo.plot_joint();"
   ]
  },
  {
   "cell_type": "code",
   "execution_count": null,
   "metadata": {},
   "outputs": [],
   "source": []
  }
 ],
 "metadata": {
  "kernelspec": {
   "display_name": "Python 3",
   "language": "python",
   "name": "python3"
  },
  "language_info": {
   "codemirror_mode": {
    "name": "ipython",
    "version": 3
   },
   "file_extension": ".py",
   "mimetype": "text/x-python",
   "name": "python",
   "nbconvert_exporter": "python",
   "pygments_lexer": "ipython3",
   "version": "3.6.8"
  }
 },
 "nbformat": 4,
 "nbformat_minor": 2
}
