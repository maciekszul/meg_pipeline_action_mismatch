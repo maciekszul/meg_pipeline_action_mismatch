{
 "cells": [
  {
   "cell_type": "code",
   "execution_count": 1,
   "metadata": {},
   "outputs": [],
   "source": [
    "import matplotlib.pylab as plt\n",
    "import glob\n",
    "import os.path as op\n",
    "from itertools import compress\n",
    "import numpy as np\n",
    "from matplotlib import gridspec\n",
    "from utilities import files, tools\n",
    "import scipy.ndimage.filters as nd\n",
    "from scipy.interpolate import interp1d\n",
    "import math\n",
    "import json\n",
    "import pandas as pd\n",
    "from scipy.signal import savgol_filter\n",
    "\n",
    "json_file = \"pipeline_params.json\""
   ]
  },
  {
   "cell_type": "code",
   "execution_count": 44,
   "metadata": {},
   "outputs": [],
   "source": [
    "def resamp_interp(x, y, new_x):\n",
    "    \"\"\"\n",
    "    returns resampled an interpolated data\n",
    "    \"\"\"\n",
    "    resamp = interp1d(x, y, kind='slinear', fill_value='extrapolate')\n",
    "    new_data = resamp(new_x)\n",
    "    return new_data\n",
    "\n",
    "def to_polar(x, y):\n",
    "    radius = []\n",
    "    angle = []\n",
    "    xy = zip(x, y)\n",
    "    for x, y in xy:\n",
    "        rad, theta = tools.cart2polar(x, y)\n",
    "        theta = math.degrees(theta)\n",
    "        angle.append(theta)\n",
    "        radius.append(rad)\n",
    "    del xy\n",
    "    radius = np.array(radius)\n",
    "    angle = np.array(angle)\n",
    "    return [angle, radius]\n",
    "\n",
    "def nan_cleaner(arr):\n",
    "    \"\"\"\n",
    "    clears nan values and interpolates the missing value\n",
    "    \"\"\"\n",
    "    mask = np.isnan(arr)\n",
    "    arr[mask] = np.interp(np.flatnonzero(mask), np.flatnonzero(~mask), arr[~mask])\n",
    "    return arr\n",
    "\n",
    "\n",
    "def calculate_degs(angle, radius):\n",
    "    degs = np.diff(angle)\n",
    "    degs = np.insert(degs, 0, 0)\n",
    "    degs[np.abs(degs) > 300] = np.nan\n",
    "    degs = nan_cleaner(degs)\n",
    "    degs = degs * radius\n",
    "    return degs"
   ]
  },
  {
   "cell_type": "code",
   "execution_count": 3,
   "metadata": {},
   "outputs": [],
   "source": [
    "with open(json_file) as pipeline_file:\n",
    "    pipeline_params = json.load(pipeline_file)"
   ]
  },
  {
   "cell_type": "code",
   "execution_count": 5,
   "metadata": {},
   "outputs": [],
   "source": [
    "beh_path = op.join(pipeline_params[\"data_path\"], \"BEH\", \"0666\")\n",
    "csv_files = files.get_files(beh_path, \"ses\", \".csv\")[2]\n",
    "csv_files.sort()\n",
    "csv_file = csv_files[0]"
   ]
  },
  {
   "cell_type": "code",
   "execution_count": 38,
   "metadata": {},
   "outputs": [],
   "source": [
    "npy_folder = csv_file.split(\".\")[0]\n",
    "npy_files = files.get_files(npy_folder, \"\", \".npy\")[2]\n",
    "npy_files.sort()"
   ]
  },
  {
   "cell_type": "code",
   "execution_count": 39,
   "metadata": {},
   "outputs": [
    {
     "data": {
      "text/plain": [
       "['/cubric/scratch/c1557187/act_mis/BEH/0666/ses2_0666_1552835544/ses2_0666_trial0000_1552835544.npy',\n",
       " '/cubric/scratch/c1557187/act_mis/BEH/0666/ses2_0666_1552835544/ses2_0666_trial0001_1552835544.npy',\n",
       " '/cubric/scratch/c1557187/act_mis/BEH/0666/ses2_0666_1552835544/ses2_0666_trial0002_1552835544.npy',\n",
       " '/cubric/scratch/c1557187/act_mis/BEH/0666/ses2_0666_1552835544/ses2_0666_trial0003_1552835544.npy',\n",
       " '/cubric/scratch/c1557187/act_mis/BEH/0666/ses2_0666_1552835544/ses2_0666_trial0004_1552835544.npy',\n",
       " '/cubric/scratch/c1557187/act_mis/BEH/0666/ses2_0666_1552835544/ses2_0666_trial0005_1552835544.npy',\n",
       " '/cubric/scratch/c1557187/act_mis/BEH/0666/ses2_0666_1552835544/ses2_0666_trial0006_1552835544.npy',\n",
       " '/cubric/scratch/c1557187/act_mis/BEH/0666/ses2_0666_1552835544/ses2_0666_trial0007_1552835544.npy',\n",
       " '/cubric/scratch/c1557187/act_mis/BEH/0666/ses2_0666_1552835544/ses2_0666_trial0008_1552835544.npy',\n",
       " '/cubric/scratch/c1557187/act_mis/BEH/0666/ses2_0666_1552835544/ses2_0666_trial0009_1552835544.npy',\n",
       " '/cubric/scratch/c1557187/act_mis/BEH/0666/ses2_0666_1552835544/ses2_0666_trial0010_1552835544.npy',\n",
       " '/cubric/scratch/c1557187/act_mis/BEH/0666/ses2_0666_1552835544/ses2_0666_trial0011_1552835544.npy',\n",
       " '/cubric/scratch/c1557187/act_mis/BEH/0666/ses2_0666_1552835544/ses2_0666_trial0012_1552835544.npy',\n",
       " '/cubric/scratch/c1557187/act_mis/BEH/0666/ses2_0666_1552835544/ses2_0666_trial0013_1552835544.npy',\n",
       " '/cubric/scratch/c1557187/act_mis/BEH/0666/ses2_0666_1552835544/ses2_0666_trial0014_1552835544.npy',\n",
       " '/cubric/scratch/c1557187/act_mis/BEH/0666/ses2_0666_1552835544/ses2_0666_trial0015_1552835544.npy',\n",
       " '/cubric/scratch/c1557187/act_mis/BEH/0666/ses2_0666_1552835544/ses2_0666_trial0016_1552835544.npy',\n",
       " '/cubric/scratch/c1557187/act_mis/BEH/0666/ses2_0666_1552835544/ses2_0666_trial0017_1552835544.npy',\n",
       " '/cubric/scratch/c1557187/act_mis/BEH/0666/ses2_0666_1552835544/ses2_0666_trial0018_1552835544.npy',\n",
       " '/cubric/scratch/c1557187/act_mis/BEH/0666/ses2_0666_1552835544/ses2_0666_trial0019_1552835544.npy',\n",
       " '/cubric/scratch/c1557187/act_mis/BEH/0666/ses2_0666_1552835544/ses2_0666_trial0020_1552835544.npy',\n",
       " '/cubric/scratch/c1557187/act_mis/BEH/0666/ses2_0666_1552835544/ses2_0666_trial0021_1552835544.npy',\n",
       " '/cubric/scratch/c1557187/act_mis/BEH/0666/ses2_0666_1552835544/ses2_0666_trial0022_1552835544.npy',\n",
       " '/cubric/scratch/c1557187/act_mis/BEH/0666/ses2_0666_1552835544/ses2_0666_trial0023_1552835544.npy',\n",
       " '/cubric/scratch/c1557187/act_mis/BEH/0666/ses2_0666_1552835544/ses2_0666_trial0024_1552835544.npy',\n",
       " '/cubric/scratch/c1557187/act_mis/BEH/0666/ses2_0666_1552835544/ses2_0666_trial0025_1552835544.npy',\n",
       " '/cubric/scratch/c1557187/act_mis/BEH/0666/ses2_0666_1552835544/ses2_0666_trial0026_1552835544.npy',\n",
       " '/cubric/scratch/c1557187/act_mis/BEH/0666/ses2_0666_1552835544/ses2_0666_trial0027_1552835544.npy',\n",
       " '/cubric/scratch/c1557187/act_mis/BEH/0666/ses2_0666_1552835544/ses2_0666_trial0028_1552835544.npy',\n",
       " '/cubric/scratch/c1557187/act_mis/BEH/0666/ses2_0666_1552835544/ses2_0666_trial0029_1552835544.npy',\n",
       " '/cubric/scratch/c1557187/act_mis/BEH/0666/ses2_0666_1552835544/ses2_0666_trial0030_1552835544.npy',\n",
       " '/cubric/scratch/c1557187/act_mis/BEH/0666/ses2_0666_1552835544/ses2_0666_trial0031_1552835544.npy',\n",
       " '/cubric/scratch/c1557187/act_mis/BEH/0666/ses2_0666_1552835544/ses2_0666_trial0032_1552835544.npy',\n",
       " '/cubric/scratch/c1557187/act_mis/BEH/0666/ses2_0666_1552835544/ses2_0666_trial0033_1552835544.npy',\n",
       " '/cubric/scratch/c1557187/act_mis/BEH/0666/ses2_0666_1552835544/ses2_0666_trial0034_1552835544.npy',\n",
       " '/cubric/scratch/c1557187/act_mis/BEH/0666/ses2_0666_1552835544/ses2_0666_trial0035_1552835544.npy',\n",
       " '/cubric/scratch/c1557187/act_mis/BEH/0666/ses2_0666_1552835544/ses2_0666_trial0036_1552835544.npy',\n",
       " '/cubric/scratch/c1557187/act_mis/BEH/0666/ses2_0666_1552835544/ses2_0666_trial0037_1552835544.npy',\n",
       " '/cubric/scratch/c1557187/act_mis/BEH/0666/ses2_0666_1552835544/ses2_0666_trial0038_1552835544.npy',\n",
       " '/cubric/scratch/c1557187/act_mis/BEH/0666/ses2_0666_1552835544/ses2_0666_trial0039_1552835544.npy',\n",
       " '/cubric/scratch/c1557187/act_mis/BEH/0666/ses2_0666_1552835544/ses2_0666_trial0040_1552835544.npy',\n",
       " '/cubric/scratch/c1557187/act_mis/BEH/0666/ses2_0666_1552835544/ses2_0666_trial0041_1552835544.npy',\n",
       " '/cubric/scratch/c1557187/act_mis/BEH/0666/ses2_0666_1552835544/ses2_0666_trial0042_1552835544.npy',\n",
       " '/cubric/scratch/c1557187/act_mis/BEH/0666/ses2_0666_1552835544/ses2_0666_trial0043_1552835544.npy',\n",
       " '/cubric/scratch/c1557187/act_mis/BEH/0666/ses2_0666_1552835544/ses2_0666_trial0044_1552835544.npy',\n",
       " '/cubric/scratch/c1557187/act_mis/BEH/0666/ses2_0666_1552835544/ses2_0666_trial0045_1552835544.npy',\n",
       " '/cubric/scratch/c1557187/act_mis/BEH/0666/ses2_0666_1552835544/ses2_0666_trial0046_1552835544.npy',\n",
       " '/cubric/scratch/c1557187/act_mis/BEH/0666/ses2_0666_1552835544/ses2_0666_trial0047_1552835544.npy',\n",
       " '/cubric/scratch/c1557187/act_mis/BEH/0666/ses2_0666_1552835544/ses2_0666_trial0048_1552835544.npy',\n",
       " '/cubric/scratch/c1557187/act_mis/BEH/0666/ses2_0666_1552835544/ses2_0666_trial0049_1552835544.npy',\n",
       " '/cubric/scratch/c1557187/act_mis/BEH/0666/ses2_0666_1552835544/ses2_0666_trial0050_1552835544.npy',\n",
       " '/cubric/scratch/c1557187/act_mis/BEH/0666/ses2_0666_1552835544/ses2_0666_trial0051_1552835544.npy',\n",
       " '/cubric/scratch/c1557187/act_mis/BEH/0666/ses2_0666_1552835544/ses2_0666_trial0052_1552835544.npy',\n",
       " '/cubric/scratch/c1557187/act_mis/BEH/0666/ses2_0666_1552835544/ses2_0666_trial0053_1552835544.npy',\n",
       " '/cubric/scratch/c1557187/act_mis/BEH/0666/ses2_0666_1552835544/ses2_0666_trial0054_1552835544.npy',\n",
       " '/cubric/scratch/c1557187/act_mis/BEH/0666/ses2_0666_1552835544/ses2_0666_trial0055_1552835544.npy',\n",
       " '/cubric/scratch/c1557187/act_mis/BEH/0666/ses2_0666_1552835544/ses2_0666_trial0056_1552835544.npy',\n",
       " '/cubric/scratch/c1557187/act_mis/BEH/0666/ses2_0666_1552835544/ses2_0666_trial0057_1552835544.npy',\n",
       " '/cubric/scratch/c1557187/act_mis/BEH/0666/ses2_0666_1552835544/ses2_0666_trial0058_1552835544.npy',\n",
       " '/cubric/scratch/c1557187/act_mis/BEH/0666/ses2_0666_1552835544/ses2_0666_trial0059_1552835544.npy',\n",
       " '/cubric/scratch/c1557187/act_mis/BEH/0666/ses2_0666_1552835544/ses2_0666_trial0060_1552835544.npy',\n",
       " '/cubric/scratch/c1557187/act_mis/BEH/0666/ses2_0666_1552835544/ses2_0666_trial0061_1552835544.npy',\n",
       " '/cubric/scratch/c1557187/act_mis/BEH/0666/ses2_0666_1552835544/ses2_0666_trial0062_1552835544.npy',\n",
       " '/cubric/scratch/c1557187/act_mis/BEH/0666/ses2_0666_1552835544/ses2_0666_trial0063_1552835544.npy',\n",
       " '/cubric/scratch/c1557187/act_mis/BEH/0666/ses2_0666_1552835544/ses2_0666_trial0064_1552835544.npy',\n",
       " '/cubric/scratch/c1557187/act_mis/BEH/0666/ses2_0666_1552835544/ses2_0666_trial0065_1552835544.npy',\n",
       " '/cubric/scratch/c1557187/act_mis/BEH/0666/ses2_0666_1552835544/ses2_0666_trial0066_1552835544.npy',\n",
       " '/cubric/scratch/c1557187/act_mis/BEH/0666/ses2_0666_1552835544/ses2_0666_trial0067_1552835544.npy',\n",
       " '/cubric/scratch/c1557187/act_mis/BEH/0666/ses2_0666_1552835544/ses2_0666_trial0068_1552835544.npy',\n",
       " '/cubric/scratch/c1557187/act_mis/BEH/0666/ses2_0666_1552835544/ses2_0666_trial0069_1552835544.npy',\n",
       " '/cubric/scratch/c1557187/act_mis/BEH/0666/ses2_0666_1552835544/ses2_0666_trial0070_1552835544.npy',\n",
       " '/cubric/scratch/c1557187/act_mis/BEH/0666/ses2_0666_1552835544/ses2_0666_trial0071_1552835544.npy',\n",
       " '/cubric/scratch/c1557187/act_mis/BEH/0666/ses2_0666_1552835544/ses2_0666_trial0072_1552835544.npy',\n",
       " '/cubric/scratch/c1557187/act_mis/BEH/0666/ses2_0666_1552835544/ses2_0666_trial0073_1552835544.npy',\n",
       " '/cubric/scratch/c1557187/act_mis/BEH/0666/ses2_0666_1552835544/ses2_0666_trial0074_1552835544.npy',\n",
       " '/cubric/scratch/c1557187/act_mis/BEH/0666/ses2_0666_1552835544/ses2_0666_trial0075_1552835544.npy',\n",
       " '/cubric/scratch/c1557187/act_mis/BEH/0666/ses2_0666_1552835544/ses2_0666_trial0076_1552835544.npy',\n",
       " '/cubric/scratch/c1557187/act_mis/BEH/0666/ses2_0666_1552835544/ses2_0666_trial0077_1552835544.npy',\n",
       " '/cubric/scratch/c1557187/act_mis/BEH/0666/ses2_0666_1552835544/ses2_0666_trial0078_1552835544.npy',\n",
       " '/cubric/scratch/c1557187/act_mis/BEH/0666/ses2_0666_1552835544/ses2_0666_trial0079_1552835544.npy',\n",
       " '/cubric/scratch/c1557187/act_mis/BEH/0666/ses2_0666_1552835544/ses2_0666_trial0080_1552835544.npy',\n",
       " '/cubric/scratch/c1557187/act_mis/BEH/0666/ses2_0666_1552835544/ses2_0666_trial0081_1552835544.npy',\n",
       " '/cubric/scratch/c1557187/act_mis/BEH/0666/ses2_0666_1552835544/ses2_0666_trial0082_1552835544.npy',\n",
       " '/cubric/scratch/c1557187/act_mis/BEH/0666/ses2_0666_1552835544/ses2_0666_trial0083_1552835544.npy',\n",
       " '/cubric/scratch/c1557187/act_mis/BEH/0666/ses2_0666_1552835544/ses2_0666_trial0084_1552835544.npy',\n",
       " '/cubric/scratch/c1557187/act_mis/BEH/0666/ses2_0666_1552835544/ses2_0666_trial0085_1552835544.npy',\n",
       " '/cubric/scratch/c1557187/act_mis/BEH/0666/ses2_0666_1552835544/ses2_0666_trial0086_1552835544.npy',\n",
       " '/cubric/scratch/c1557187/act_mis/BEH/0666/ses2_0666_1552835544/ses2_0666_trial0087_1552835544.npy',\n",
       " '/cubric/scratch/c1557187/act_mis/BEH/0666/ses2_0666_1552835544/ses2_0666_trial0088_1552835544.npy',\n",
       " '/cubric/scratch/c1557187/act_mis/BEH/0666/ses2_0666_1552835544/ses2_0666_trial0089_1552835544.npy',\n",
       " '/cubric/scratch/c1557187/act_mis/BEH/0666/ses2_0666_1552835544/ses2_0666_trial0090_1552835544.npy',\n",
       " '/cubric/scratch/c1557187/act_mis/BEH/0666/ses2_0666_1552835544/ses2_0666_trial0091_1552835544.npy',\n",
       " '/cubric/scratch/c1557187/act_mis/BEH/0666/ses2_0666_1552835544/ses2_0666_trial0092_1552835544.npy',\n",
       " '/cubric/scratch/c1557187/act_mis/BEH/0666/ses2_0666_1552835544/ses2_0666_trial0093_1552835544.npy',\n",
       " '/cubric/scratch/c1557187/act_mis/BEH/0666/ses2_0666_1552835544/ses2_0666_trial0094_1552835544.npy',\n",
       " '/cubric/scratch/c1557187/act_mis/BEH/0666/ses2_0666_1552835544/ses2_0666_trial0095_1552835544.npy',\n",
       " '/cubric/scratch/c1557187/act_mis/BEH/0666/ses2_0666_1552835544/ses2_0666_trial0096_1552835544.npy',\n",
       " '/cubric/scratch/c1557187/act_mis/BEH/0666/ses2_0666_1552835544/ses2_0666_trial0097_1552835544.npy',\n",
       " '/cubric/scratch/c1557187/act_mis/BEH/0666/ses2_0666_1552835544/ses2_0666_trial0098_1552835544.npy',\n",
       " '/cubric/scratch/c1557187/act_mis/BEH/0666/ses2_0666_1552835544/ses2_0666_trial0099_1552835544.npy',\n",
       " '/cubric/scratch/c1557187/act_mis/BEH/0666/ses2_0666_1552835544/ses2_0666_trial0100_1552835544.npy',\n",
       " '/cubric/scratch/c1557187/act_mis/BEH/0666/ses2_0666_1552835544/ses2_0666_trial0101_1552835544.npy',\n",
       " '/cubric/scratch/c1557187/act_mis/BEH/0666/ses2_0666_1552835544/ses2_0666_trial0102_1552835544.npy',\n",
       " '/cubric/scratch/c1557187/act_mis/BEH/0666/ses2_0666_1552835544/ses2_0666_trial0103_1552835544.npy',\n",
       " '/cubric/scratch/c1557187/act_mis/BEH/0666/ses2_0666_1552835544/ses2_0666_trial0104_1552835544.npy',\n",
       " '/cubric/scratch/c1557187/act_mis/BEH/0666/ses2_0666_1552835544/ses2_0666_trial0105_1552835544.npy',\n",
       " '/cubric/scratch/c1557187/act_mis/BEH/0666/ses2_0666_1552835544/ses2_0666_trial0106_1552835544.npy',\n",
       " '/cubric/scratch/c1557187/act_mis/BEH/0666/ses2_0666_1552835544/ses2_0666_trial0107_1552835544.npy',\n",
       " '/cubric/scratch/c1557187/act_mis/BEH/0666/ses2_0666_1552835544/ses2_0666_trial0108_1552835544.npy',\n",
       " '/cubric/scratch/c1557187/act_mis/BEH/0666/ses2_0666_1552835544/ses2_0666_trial0109_1552835544.npy',\n",
       " '/cubric/scratch/c1557187/act_mis/BEH/0666/ses2_0666_1552835544/ses2_0666_trial0110_1552835544.npy',\n",
       " '/cubric/scratch/c1557187/act_mis/BEH/0666/ses2_0666_1552835544/ses2_0666_trial0111_1552835544.npy',\n",
       " '/cubric/scratch/c1557187/act_mis/BEH/0666/ses2_0666_1552835544/ses2_0666_trial0112_1552835544.npy',\n",
       " '/cubric/scratch/c1557187/act_mis/BEH/0666/ses2_0666_1552835544/ses2_0666_trial0113_1552835544.npy',\n",
       " '/cubric/scratch/c1557187/act_mis/BEH/0666/ses2_0666_1552835544/ses2_0666_trial0114_1552835544.npy',\n",
       " '/cubric/scratch/c1557187/act_mis/BEH/0666/ses2_0666_1552835544/ses2_0666_trial0115_1552835544.npy',\n",
       " '/cubric/scratch/c1557187/act_mis/BEH/0666/ses2_0666_1552835544/ses2_0666_trial0116_1552835544.npy',\n",
       " '/cubric/scratch/c1557187/act_mis/BEH/0666/ses2_0666_1552835544/ses2_0666_trial0117_1552835544.npy',\n",
       " '/cubric/scratch/c1557187/act_mis/BEH/0666/ses2_0666_1552835544/ses2_0666_trial0118_1552835544.npy',\n",
       " '/cubric/scratch/c1557187/act_mis/BEH/0666/ses2_0666_1552835544/ses2_0666_trial0119_1552835544.npy',\n",
       " '/cubric/scratch/c1557187/act_mis/BEH/0666/ses2_0666_1552835544/ses2_0666_trial0120_1552835544.npy',\n",
       " '/cubric/scratch/c1557187/act_mis/BEH/0666/ses2_0666_1552835544/ses2_0666_trial0121_1552835544.npy',\n",
       " '/cubric/scratch/c1557187/act_mis/BEH/0666/ses2_0666_1552835544/ses2_0666_trial0122_1552835544.npy',\n",
       " '/cubric/scratch/c1557187/act_mis/BEH/0666/ses2_0666_1552835544/ses2_0666_trial0123_1552835544.npy',\n",
       " '/cubric/scratch/c1557187/act_mis/BEH/0666/ses2_0666_1552835544/ses2_0666_trial0124_1552835544.npy',\n",
       " '/cubric/scratch/c1557187/act_mis/BEH/0666/ses2_0666_1552835544/ses2_0666_trial0125_1552835544.npy',\n",
       " '/cubric/scratch/c1557187/act_mis/BEH/0666/ses2_0666_1552835544/ses2_0666_trial0126_1552835544.npy',\n",
       " '/cubric/scratch/c1557187/act_mis/BEH/0666/ses2_0666_1552835544/ses2_0666_trial0127_1552835544.npy',\n",
       " '/cubric/scratch/c1557187/act_mis/BEH/0666/ses2_0666_1552835544/ses2_0666_trial0128_1552835544.npy',\n",
       " '/cubric/scratch/c1557187/act_mis/BEH/0666/ses2_0666_1552835544/ses2_0666_trial0129_1552835544.npy',\n",
       " '/cubric/scratch/c1557187/act_mis/BEH/0666/ses2_0666_1552835544/ses2_0666_trial0130_1552835544.npy',\n",
       " '/cubric/scratch/c1557187/act_mis/BEH/0666/ses2_0666_1552835544/ses2_0666_trial0131_1552835544.npy',\n",
       " '/cubric/scratch/c1557187/act_mis/BEH/0666/ses2_0666_1552835544/ses2_0666_trial0132_1552835544.npy',\n",
       " '/cubric/scratch/c1557187/act_mis/BEH/0666/ses2_0666_1552835544/ses2_0666_trial0133_1552835544.npy',\n",
       " '/cubric/scratch/c1557187/act_mis/BEH/0666/ses2_0666_1552835544/ses2_0666_trial0134_1552835544.npy',\n",
       " '/cubric/scratch/c1557187/act_mis/BEH/0666/ses2_0666_1552835544/ses2_0666_trial0135_1552835544.npy',\n",
       " '/cubric/scratch/c1557187/act_mis/BEH/0666/ses2_0666_1552835544/ses2_0666_trial0136_1552835544.npy',\n",
       " '/cubric/scratch/c1557187/act_mis/BEH/0666/ses2_0666_1552835544/ses2_0666_trial0137_1552835544.npy',\n",
       " '/cubric/scratch/c1557187/act_mis/BEH/0666/ses2_0666_1552835544/ses2_0666_trial0138_1552835544.npy',\n",
       " '/cubric/scratch/c1557187/act_mis/BEH/0666/ses2_0666_1552835544/ses2_0666_trial0139_1552835544.npy',\n",
       " '/cubric/scratch/c1557187/act_mis/BEH/0666/ses2_0666_1552835544/ses2_0666_trial0140_1552835544.npy',\n",
       " '/cubric/scratch/c1557187/act_mis/BEH/0666/ses2_0666_1552835544/ses2_0666_trial0141_1552835544.npy',\n",
       " '/cubric/scratch/c1557187/act_mis/BEH/0666/ses2_0666_1552835544/ses2_0666_trial0142_1552835544.npy',\n",
       " '/cubric/scratch/c1557187/act_mis/BEH/0666/ses2_0666_1552835544/ses2_0666_trial0143_1552835544.npy',\n",
       " '/cubric/scratch/c1557187/act_mis/BEH/0666/ses2_0666_1552835544/ses2_0666_trial0144_1552835544.npy',\n",
       " '/cubric/scratch/c1557187/act_mis/BEH/0666/ses2_0666_1552835544/ses2_0666_trial0145_1552835544.npy',\n",
       " '/cubric/scratch/c1557187/act_mis/BEH/0666/ses2_0666_1552835544/ses2_0666_trial0146_1552835544.npy',\n",
       " '/cubric/scratch/c1557187/act_mis/BEH/0666/ses2_0666_1552835544/ses2_0666_trial0147_1552835544.npy',\n",
       " '/cubric/scratch/c1557187/act_mis/BEH/0666/ses2_0666_1552835544/ses2_0666_trial0148_1552835544.npy',\n",
       " '/cubric/scratch/c1557187/act_mis/BEH/0666/ses2_0666_1552835544/ses2_0666_trial0149_1552835544.npy',\n",
       " '/cubric/scratch/c1557187/act_mis/BEH/0666/ses2_0666_1552835544/ses2_0666_trial0150_1552835544.npy',\n",
       " '/cubric/scratch/c1557187/act_mis/BEH/0666/ses2_0666_1552835544/ses2_0666_trial0151_1552835544.npy',\n",
       " '/cubric/scratch/c1557187/act_mis/BEH/0666/ses2_0666_1552835544/ses2_0666_trial0152_1552835544.npy',\n",
       " '/cubric/scratch/c1557187/act_mis/BEH/0666/ses2_0666_1552835544/ses2_0666_trial0153_1552835544.npy',\n",
       " '/cubric/scratch/c1557187/act_mis/BEH/0666/ses2_0666_1552835544/ses2_0666_trial0154_1552835544.npy',\n",
       " '/cubric/scratch/c1557187/act_mis/BEH/0666/ses2_0666_1552835544/ses2_0666_trial0155_1552835544.npy',\n",
       " '/cubric/scratch/c1557187/act_mis/BEH/0666/ses2_0666_1552835544/ses2_0666_trial0156_1552835544.npy',\n",
       " '/cubric/scratch/c1557187/act_mis/BEH/0666/ses2_0666_1552835544/ses2_0666_trial0157_1552835544.npy',\n",
       " '/cubric/scratch/c1557187/act_mis/BEH/0666/ses2_0666_1552835544/ses2_0666_trial0158_1552835544.npy',\n",
       " '/cubric/scratch/c1557187/act_mis/BEH/0666/ses2_0666_1552835544/ses2_0666_trial0159_1552835544.npy',\n",
       " '/cubric/scratch/c1557187/act_mis/BEH/0666/ses2_0666_1552835544/ses2_0666_trial0160_1552835544.npy',\n",
       " '/cubric/scratch/c1557187/act_mis/BEH/0666/ses2_0666_1552835544/ses2_0666_trial0161_1552835544.npy',\n",
       " '/cubric/scratch/c1557187/act_mis/BEH/0666/ses2_0666_1552835544/ses2_0666_trial0162_1552835544.npy',\n",
       " '/cubric/scratch/c1557187/act_mis/BEH/0666/ses2_0666_1552835544/ses2_0666_trial0163_1552835544.npy',\n",
       " '/cubric/scratch/c1557187/act_mis/BEH/0666/ses2_0666_1552835544/ses2_0666_trial0164_1552835544.npy',\n",
       " '/cubric/scratch/c1557187/act_mis/BEH/0666/ses2_0666_1552835544/ses2_0666_trial0165_1552835544.npy',\n",
       " '/cubric/scratch/c1557187/act_mis/BEH/0666/ses2_0666_1552835544/ses2_0666_trial0166_1552835544.npy',\n",
       " '/cubric/scratch/c1557187/act_mis/BEH/0666/ses2_0666_1552835544/ses2_0666_trial0167_1552835544.npy',\n",
       " '/cubric/scratch/c1557187/act_mis/BEH/0666/ses2_0666_1552835544/ses2_0666_trial0168_1552835544.npy',\n",
       " '/cubric/scratch/c1557187/act_mis/BEH/0666/ses2_0666_1552835544/ses2_0666_trial0169_1552835544.npy',\n",
       " '/cubric/scratch/c1557187/act_mis/BEH/0666/ses2_0666_1552835544/ses2_0666_trial0170_1552835544.npy',\n",
       " '/cubric/scratch/c1557187/act_mis/BEH/0666/ses2_0666_1552835544/ses2_0666_trial0171_1552835544.npy',\n",
       " '/cubric/scratch/c1557187/act_mis/BEH/0666/ses2_0666_1552835544/ses2_0666_trial0172_1552835544.npy',\n",
       " '/cubric/scratch/c1557187/act_mis/BEH/0666/ses2_0666_1552835544/ses2_0666_trial0173_1552835544.npy',\n",
       " '/cubric/scratch/c1557187/act_mis/BEH/0666/ses2_0666_1552835544/ses2_0666_trial0174_1552835544.npy',\n",
       " '/cubric/scratch/c1557187/act_mis/BEH/0666/ses2_0666_1552835544/ses2_0666_trial0175_1552835544.npy',\n",
       " '/cubric/scratch/c1557187/act_mis/BEH/0666/ses2_0666_1552835544/ses2_0666_trial0176_1552835544.npy',\n",
       " '/cubric/scratch/c1557187/act_mis/BEH/0666/ses2_0666_1552835544/ses2_0666_trial0177_1552835544.npy',\n",
       " '/cubric/scratch/c1557187/act_mis/BEH/0666/ses2_0666_1552835544/ses2_0666_trial0178_1552835544.npy',\n",
       " '/cubric/scratch/c1557187/act_mis/BEH/0666/ses2_0666_1552835544/ses2_0666_trial0179_1552835544.npy',\n",
       " '/cubric/scratch/c1557187/act_mis/BEH/0666/ses2_0666_1552835544/ses2_0666_trial0180_1552835544.npy',\n",
       " '/cubric/scratch/c1557187/act_mis/BEH/0666/ses2_0666_1552835544/ses2_0666_trial0181_1552835544.npy',\n",
       " '/cubric/scratch/c1557187/act_mis/BEH/0666/ses2_0666_1552835544/ses2_0666_trial0182_1552835544.npy',\n",
       " '/cubric/scratch/c1557187/act_mis/BEH/0666/ses2_0666_1552835544/ses2_0666_trial0183_1552835544.npy',\n",
       " '/cubric/scratch/c1557187/act_mis/BEH/0666/ses2_0666_1552835544/ses2_0666_trial0184_1552835544.npy',\n",
       " '/cubric/scratch/c1557187/act_mis/BEH/0666/ses2_0666_1552835544/ses2_0666_trial0185_1552835544.npy',\n",
       " '/cubric/scratch/c1557187/act_mis/BEH/0666/ses2_0666_1552835544/ses2_0666_trial0186_1552835544.npy',\n",
       " '/cubric/scratch/c1557187/act_mis/BEH/0666/ses2_0666_1552835544/ses2_0666_trial0187_1552835544.npy',\n",
       " '/cubric/scratch/c1557187/act_mis/BEH/0666/ses2_0666_1552835544/ses2_0666_trial0188_1552835544.npy',\n",
       " '/cubric/scratch/c1557187/act_mis/BEH/0666/ses2_0666_1552835544/ses2_0666_trial0189_1552835544.npy',\n",
       " '/cubric/scratch/c1557187/act_mis/BEH/0666/ses2_0666_1552835544/ses2_0666_trial0190_1552835544.npy',\n",
       " '/cubric/scratch/c1557187/act_mis/BEH/0666/ses2_0666_1552835544/ses2_0666_trial0191_1552835544.npy',\n",
       " '/cubric/scratch/c1557187/act_mis/BEH/0666/ses2_0666_1552835544/ses2_0666_trial0192_1552835544.npy',\n",
       " '/cubric/scratch/c1557187/act_mis/BEH/0666/ses2_0666_1552835544/ses2_0666_trial0193_1552835544.npy',\n",
       " '/cubric/scratch/c1557187/act_mis/BEH/0666/ses2_0666_1552835544/ses2_0666_trial0194_1552835544.npy',\n",
       " '/cubric/scratch/c1557187/act_mis/BEH/0666/ses2_0666_1552835544/ses2_0666_trial0195_1552835544.npy',\n",
       " '/cubric/scratch/c1557187/act_mis/BEH/0666/ses2_0666_1552835544/ses2_0666_trial0196_1552835544.npy',\n",
       " '/cubric/scratch/c1557187/act_mis/BEH/0666/ses2_0666_1552835544/ses2_0666_trial0197_1552835544.npy',\n",
       " '/cubric/scratch/c1557187/act_mis/BEH/0666/ses2_0666_1552835544/ses2_0666_trial0198_1552835544.npy',\n",
       " '/cubric/scratch/c1557187/act_mis/BEH/0666/ses2_0666_1552835544/ses2_0666_trial0199_1552835544.npy',\n",
       " '/cubric/scratch/c1557187/act_mis/BEH/0666/ses2_0666_1552835544/ses2_0666_trial0200_1552835544.npy',\n",
       " '/cubric/scratch/c1557187/act_mis/BEH/0666/ses2_0666_1552835544/ses2_0666_trial0201_1552835544.npy',\n",
       " '/cubric/scratch/c1557187/act_mis/BEH/0666/ses2_0666_1552835544/ses2_0666_trial0202_1552835544.npy',\n",
       " '/cubric/scratch/c1557187/act_mis/BEH/0666/ses2_0666_1552835544/ses2_0666_trial0203_1552835544.npy',\n",
       " '/cubric/scratch/c1557187/act_mis/BEH/0666/ses2_0666_1552835544/ses2_0666_trial0204_1552835544.npy',\n",
       " '/cubric/scratch/c1557187/act_mis/BEH/0666/ses2_0666_1552835544/ses2_0666_trial0205_1552835544.npy',\n",
       " '/cubric/scratch/c1557187/act_mis/BEH/0666/ses2_0666_1552835544/ses2_0666_trial0206_1552835544.npy',\n",
       " '/cubric/scratch/c1557187/act_mis/BEH/0666/ses2_0666_1552835544/ses2_0666_trial0207_1552835544.npy',\n",
       " '/cubric/scratch/c1557187/act_mis/BEH/0666/ses2_0666_1552835544/ses2_0666_trial0208_1552835544.npy',\n",
       " '/cubric/scratch/c1557187/act_mis/BEH/0666/ses2_0666_1552835544/ses2_0666_trial0209_1552835544.npy',\n",
       " '/cubric/scratch/c1557187/act_mis/BEH/0666/ses2_0666_1552835544/ses2_0666_trial0210_1552835544.npy',\n",
       " '/cubric/scratch/c1557187/act_mis/BEH/0666/ses2_0666_1552835544/ses2_0666_trial0211_1552835544.npy',\n",
       " '/cubric/scratch/c1557187/act_mis/BEH/0666/ses2_0666_1552835544/ses2_0666_trial0212_1552835544.npy',\n",
       " '/cubric/scratch/c1557187/act_mis/BEH/0666/ses2_0666_1552835544/ses2_0666_trial0213_1552835544.npy',\n",
       " '/cubric/scratch/c1557187/act_mis/BEH/0666/ses2_0666_1552835544/ses2_0666_trial0214_1552835544.npy',\n",
       " '/cubric/scratch/c1557187/act_mis/BEH/0666/ses2_0666_1552835544/ses2_0666_trial0215_1552835544.npy',\n",
       " '/cubric/scratch/c1557187/act_mis/BEH/0666/ses2_0666_1552835544/ses2_0666_trial0216_1552835544.npy',\n",
       " '/cubric/scratch/c1557187/act_mis/BEH/0666/ses2_0666_1552835544/ses2_0666_trial0217_1552835544.npy',\n",
       " '/cubric/scratch/c1557187/act_mis/BEH/0666/ses2_0666_1552835544/ses2_0666_trial0218_1552835544.npy',\n",
       " '/cubric/scratch/c1557187/act_mis/BEH/0666/ses2_0666_1552835544/ses2_0666_trial0219_1552835544.npy',\n",
       " '/cubric/scratch/c1557187/act_mis/BEH/0666/ses2_0666_1552835544/ses2_0666_trial0220_1552835544.npy',\n",
       " '/cubric/scratch/c1557187/act_mis/BEH/0666/ses2_0666_1552835544/ses2_0666_trial0221_1552835544.npy',\n",
       " '/cubric/scratch/c1557187/act_mis/BEH/0666/ses2_0666_1552835544/ses2_0666_trial0222_1552835544.npy',\n",
       " '/cubric/scratch/c1557187/act_mis/BEH/0666/ses2_0666_1552835544/ses2_0666_trial0223_1552835544.npy',\n",
       " '/cubric/scratch/c1557187/act_mis/BEH/0666/ses2_0666_1552835544/ses2_0666_trial0224_1552835544.npy',\n",
       " '/cubric/scratch/c1557187/act_mis/BEH/0666/ses2_0666_1552835544/ses2_0666_trial0225_1552835544.npy',\n",
       " '/cubric/scratch/c1557187/act_mis/BEH/0666/ses2_0666_1552835544/ses2_0666_trial0226_1552835544.npy',\n",
       " '/cubric/scratch/c1557187/act_mis/BEH/0666/ses2_0666_1552835544/ses2_0666_trial0227_1552835544.npy',\n",
       " '/cubric/scratch/c1557187/act_mis/BEH/0666/ses2_0666_1552835544/ses2_0666_trial0228_1552835544.npy',\n",
       " '/cubric/scratch/c1557187/act_mis/BEH/0666/ses2_0666_1552835544/ses2_0666_trial0229_1552835544.npy',\n",
       " '/cubric/scratch/c1557187/act_mis/BEH/0666/ses2_0666_1552835544/ses2_0666_trial0230_1552835544.npy',\n",
       " '/cubric/scratch/c1557187/act_mis/BEH/0666/ses2_0666_1552835544/ses2_0666_trial0231_1552835544.npy',\n",
       " '/cubric/scratch/c1557187/act_mis/BEH/0666/ses2_0666_1552835544/ses2_0666_trial0232_1552835544.npy',\n",
       " '/cubric/scratch/c1557187/act_mis/BEH/0666/ses2_0666_1552835544/ses2_0666_trial0233_1552835544.npy',\n",
       " '/cubric/scratch/c1557187/act_mis/BEH/0666/ses2_0666_1552835544/ses2_0666_trial0234_1552835544.npy',\n",
       " '/cubric/scratch/c1557187/act_mis/BEH/0666/ses2_0666_1552835544/ses2_0666_trial0235_1552835544.npy',\n",
       " '/cubric/scratch/c1557187/act_mis/BEH/0666/ses2_0666_1552835544/ses2_0666_trial0236_1552835544.npy',\n",
       " '/cubric/scratch/c1557187/act_mis/BEH/0666/ses2_0666_1552835544/ses2_0666_trial0237_1552835544.npy',\n",
       " '/cubric/scratch/c1557187/act_mis/BEH/0666/ses2_0666_1552835544/ses2_0666_trial0238_1552835544.npy',\n",
       " '/cubric/scratch/c1557187/act_mis/BEH/0666/ses2_0666_1552835544/ses2_0666_trial0239_1552835544.npy',\n",
       " '/cubric/scratch/c1557187/act_mis/BEH/0666/ses2_0666_1552835544/ses2_0666_trial0240_1552835544.npy',\n",
       " '/cubric/scratch/c1557187/act_mis/BEH/0666/ses2_0666_1552835544/ses2_0666_trial0241_1552835544.npy',\n",
       " '/cubric/scratch/c1557187/act_mis/BEH/0666/ses2_0666_1552835544/ses2_0666_trial0242_1552835544.npy',\n",
       " '/cubric/scratch/c1557187/act_mis/BEH/0666/ses2_0666_1552835544/ses2_0666_trial0243_1552835544.npy',\n",
       " '/cubric/scratch/c1557187/act_mis/BEH/0666/ses2_0666_1552835544/ses2_0666_trial0244_1552835544.npy',\n",
       " '/cubric/scratch/c1557187/act_mis/BEH/0666/ses2_0666_1552835544/ses2_0666_trial0245_1552835544.npy',\n",
       " '/cubric/scratch/c1557187/act_mis/BEH/0666/ses2_0666_1552835544/ses2_0666_trial0246_1552835544.npy',\n",
       " '/cubric/scratch/c1557187/act_mis/BEH/0666/ses2_0666_1552835544/ses2_0666_trial0247_1552835544.npy',\n",
       " '/cubric/scratch/c1557187/act_mis/BEH/0666/ses2_0666_1552835544/ses2_0666_trial0248_1552835544.npy',\n",
       " '/cubric/scratch/c1557187/act_mis/BEH/0666/ses2_0666_1552835544/ses2_0666_trial0249_1552835544.npy',\n",
       " '/cubric/scratch/c1557187/act_mis/BEH/0666/ses2_0666_1552835544/ses2_0666_trial0250_1552835544.npy',\n",
       " '/cubric/scratch/c1557187/act_mis/BEH/0666/ses2_0666_1552835544/ses2_0666_trial0251_1552835544.npy',\n",
       " '/cubric/scratch/c1557187/act_mis/BEH/0666/ses2_0666_1552835544/ses2_0666_trial0252_1552835544.npy',\n",
       " '/cubric/scratch/c1557187/act_mis/BEH/0666/ses2_0666_1552835544/ses2_0666_trial0253_1552835544.npy',\n",
       " '/cubric/scratch/c1557187/act_mis/BEH/0666/ses2_0666_1552835544/ses2_0666_trial0254_1552835544.npy',\n",
       " '/cubric/scratch/c1557187/act_mis/BEH/0666/ses2_0666_1552835544/ses2_0666_trial0255_1552835544.npy',\n",
       " '/cubric/scratch/c1557187/act_mis/BEH/0666/ses2_0666_1552835544/ses2_0666_trial0256_1552835544.npy',\n",
       " '/cubric/scratch/c1557187/act_mis/BEH/0666/ses2_0666_1552835544/ses2_0666_trial0257_1552835544.npy',\n",
       " '/cubric/scratch/c1557187/act_mis/BEH/0666/ses2_0666_1552835544/ses2_0666_trial0258_1552835544.npy',\n",
       " '/cubric/scratch/c1557187/act_mis/BEH/0666/ses2_0666_1552835544/ses2_0666_trial0259_1552835544.npy',\n",
       " '/cubric/scratch/c1557187/act_mis/BEH/0666/ses2_0666_1552835544/ses2_0666_trial0260_1552835544.npy',\n",
       " '/cubric/scratch/c1557187/act_mis/BEH/0666/ses2_0666_1552835544/ses2_0666_trial0261_1552835544.npy',\n",
       " '/cubric/scratch/c1557187/act_mis/BEH/0666/ses2_0666_1552835544/ses2_0666_trial0262_1552835544.npy',\n",
       " '/cubric/scratch/c1557187/act_mis/BEH/0666/ses2_0666_1552835544/ses2_0666_trial0263_1552835544.npy',\n",
       " '/cubric/scratch/c1557187/act_mis/BEH/0666/ses2_0666_1552835544/ses2_0666_trial0264_1552835544.npy',\n",
       " '/cubric/scratch/c1557187/act_mis/BEH/0666/ses2_0666_1552835544/ses2_0666_trial0265_1552835544.npy',\n",
       " '/cubric/scratch/c1557187/act_mis/BEH/0666/ses2_0666_1552835544/ses2_0666_trial0266_1552835544.npy',\n",
       " '/cubric/scratch/c1557187/act_mis/BEH/0666/ses2_0666_1552835544/ses2_0666_trial0267_1552835544.npy',\n",
       " '/cubric/scratch/c1557187/act_mis/BEH/0666/ses2_0666_1552835544/ses2_0666_trial0268_1552835544.npy',\n",
       " '/cubric/scratch/c1557187/act_mis/BEH/0666/ses2_0666_1552835544/ses2_0666_trial0269_1552835544.npy',\n",
       " '/cubric/scratch/c1557187/act_mis/BEH/0666/ses2_0666_1552835544/ses2_0666_trial0270_1552835544.npy',\n",
       " '/cubric/scratch/c1557187/act_mis/BEH/0666/ses2_0666_1552835544/ses2_0666_trial0271_1552835544.npy',\n",
       " '/cubric/scratch/c1557187/act_mis/BEH/0666/ses2_0666_1552835544/ses2_0666_trial0272_1552835544.npy',\n",
       " '/cubric/scratch/c1557187/act_mis/BEH/0666/ses2_0666_1552835544/ses2_0666_trial0273_1552835544.npy',\n",
       " '/cubric/scratch/c1557187/act_mis/BEH/0666/ses2_0666_1552835544/ses2_0666_trial0274_1552835544.npy',\n",
       " '/cubric/scratch/c1557187/act_mis/BEH/0666/ses2_0666_1552835544/ses2_0666_trial0275_1552835544.npy',\n",
       " '/cubric/scratch/c1557187/act_mis/BEH/0666/ses2_0666_1552835544/ses2_0666_trial0276_1552835544.npy',\n",
       " '/cubric/scratch/c1557187/act_mis/BEH/0666/ses2_0666_1552835544/ses2_0666_trial0277_1552835544.npy',\n",
       " '/cubric/scratch/c1557187/act_mis/BEH/0666/ses2_0666_1552835544/ses2_0666_trial0278_1552835544.npy',\n",
       " '/cubric/scratch/c1557187/act_mis/BEH/0666/ses2_0666_1552835544/ses2_0666_trial0279_1552835544.npy',\n",
       " '/cubric/scratch/c1557187/act_mis/BEH/0666/ses2_0666_1552835544/ses2_0666_trial0280_1552835544.npy',\n",
       " '/cubric/scratch/c1557187/act_mis/BEH/0666/ses2_0666_1552835544/ses2_0666_trial0281_1552835544.npy',\n",
       " '/cubric/scratch/c1557187/act_mis/BEH/0666/ses2_0666_1552835544/ses2_0666_trial0282_1552835544.npy',\n",
       " '/cubric/scratch/c1557187/act_mis/BEH/0666/ses2_0666_1552835544/ses2_0666_trial0283_1552835544.npy',\n",
       " '/cubric/scratch/c1557187/act_mis/BEH/0666/ses2_0666_1552835544/ses2_0666_trial0284_1552835544.npy',\n",
       " '/cubric/scratch/c1557187/act_mis/BEH/0666/ses2_0666_1552835544/ses2_0666_trial0285_1552835544.npy',\n",
       " '/cubric/scratch/c1557187/act_mis/BEH/0666/ses2_0666_1552835544/ses2_0666_trial0286_1552835544.npy',\n",
       " '/cubric/scratch/c1557187/act_mis/BEH/0666/ses2_0666_1552835544/ses2_0666_trial0287_1552835544.npy',\n",
       " '/cubric/scratch/c1557187/act_mis/BEH/0666/ses2_0666_1552835544/ses2_0666_trial0288_1552835544.npy',\n",
       " '/cubric/scratch/c1557187/act_mis/BEH/0666/ses2_0666_1552835544/ses2_0666_trial0289_1552835544.npy',\n",
       " '/cubric/scratch/c1557187/act_mis/BEH/0666/ses2_0666_1552835544/ses2_0666_trial0290_1552835544.npy',\n",
       " '/cubric/scratch/c1557187/act_mis/BEH/0666/ses2_0666_1552835544/ses2_0666_trial0291_1552835544.npy',\n",
       " '/cubric/scratch/c1557187/act_mis/BEH/0666/ses2_0666_1552835544/ses2_0666_trial0292_1552835544.npy',\n",
       " '/cubric/scratch/c1557187/act_mis/BEH/0666/ses2_0666_1552835544/ses2_0666_trial0293_1552835544.npy',\n",
       " '/cubric/scratch/c1557187/act_mis/BEH/0666/ses2_0666_1552835544/ses2_0666_trial0294_1552835544.npy']"
      ]
     },
     "execution_count": 39,
     "metadata": {},
     "output_type": "execute_result"
    }
   ],
   "source": [
    "npy_files"
   ]
  },
  {
   "cell_type": "code",
   "execution_count": 25,
   "metadata": {},
   "outputs": [],
   "source": [
    "beh_data = pd.read_csv(csv_file, index_col=0)"
   ]
  },
  {
   "cell_type": "code",
   "execution_count": 54,
   "metadata": {},
   "outputs": [],
   "source": [
    "data_add = {\n",
    "    \"x\": [],\n",
    "    \"y\": [],\n",
    "    \"angle\": [],\n",
    "    \"radius\": [],\n",
    "    \"degs\": [],\n",
    "    \"action_onset\": []\n",
    "}\n",
    "\n",
    "for file in npy_files:\n",
    "    (x_raw, y_raw, t_raw) =  np.load(file)\n",
    "    t_raw = t_raw - t_raw[0]\n",
    "    t = np.linspace(0.0, 1.5, num=375)\n",
    "    x = resamp_interp(t_raw, x_raw, t)\n",
    "    y = resamp_interp(t_raw, y_raw, t)\n",
    "    angle, radius = to_polar(x, y)\n",
    "    degs = calculate_degs(angle, radius)\n",
    "    degs = savgol_filter(degs, 25, 2, mode=\"mirror\")\n",
    "    eng_ix = np.where(radius >= 0.2)[0][0]\n",
    "    data_add[\"x\"].append(x)\n",
    "    data_add[\"y\"].append(y)\n",
    "    data_add[\"angle\"].append(angle)\n",
    "    data_add[\"radius\"].append(radius)\n",
    "    data_add[\"degs\"].append(degs)\n",
    "    data_add[\"action_onset\"].append(eng_ix)\n",
    "\n",
    "all_data = pd.concat([beh_data,pd.DataFrame(data_add)], axis=1)\n",
    "file_out = \"{}.pkl\".format(csv_file.split(\".\")[0])\n",
    "all_data.to_pickle(file_out)"
   ]
  },
  {
   "cell_type": "code",
   "execution_count": 28,
   "metadata": {},
   "outputs": [
    {
     "data": {
      "text/plain": [
       "(181,)"
      ]
     },
     "execution_count": 28,
     "metadata": {},
     "output_type": "execute_result"
    }
   ],
   "source": []
  },
  {
   "cell_type": "code",
   "execution_count": null,
   "metadata": {},
   "outputs": [],
   "source": []
  },
  {
   "cell_type": "code",
   "execution_count": null,
   "metadata": {},
   "outputs": [],
   "source": []
  },
  {
   "cell_type": "code",
   "execution_count": null,
   "metadata": {},
   "outputs": [],
   "source": []
  },
  {
   "cell_type": "code",
   "execution_count": null,
   "metadata": {},
   "outputs": [],
   "source": []
  },
  {
   "cell_type": "code",
   "execution_count": 19,
   "metadata": {},
   "outputs": [],
   "source": [
    "npy_file = npy_files[67]\n",
    "joy_data = np.load(npy_file)\n",
    "x, y, t = joy_data\n",
    "t = t - t[0]\n",
    "time = np.linspace(0.0, 1.5, num=375)\n",
    "x_interp = resamp_interp(t, x, time)\n",
    "y_interp = resamp_interp(t, y, time)"
   ]
  },
  {
   "cell_type": "code",
   "execution_count": 20,
   "metadata": {},
   "outputs": [],
   "source": [
    "angle, radius = to_polar(x_interp, y_interp)\n",
    "angle_sg, radius_sg = to_polar(savgol_filter(x_interp, 25, 2, mode=\"mirror\"), savgol_filter(y_interp, 25, 2, mode=\"mirror\"))\n",
    "degs = calculate_degs(angle, radius)\n",
    "degs_sg = calculate_degs(angle_sg, radius_sg)"
   ]
  },
  {
   "cell_type": "code",
   "execution_count": 22,
   "metadata": {},
   "outputs": [
    {
     "data": {
      "text/plain": [
       "[<matplotlib.lines.Line2D at 0x7f2fd3218780>]"
      ]
     },
     "execution_count": 22,
     "metadata": {},
     "output_type": "execute_result"
    },
    {
     "data": {
      "image/png": "[encoded data removed]",
      "text/plain": [
       "<Figure size 432x288 with 1 Axes>"
      ]
     },
     "metadata": {
      "needs_background": "light"
     },
     "output_type": "display_data"
    }
   ],
   "source": [
    "plt.plot(time, degs)\n",
    "sav_sm = savgol_filter(degs, 25, 2, mode=\"mirror\")\n",
    "plt.plot(time, sav_sm)\n",
    "plt.plot(time, degs_sg)"
   ]
  },
  {
   "cell_type": "code",
   "execution_count": 31,
   "metadata": {},
   "outputs": [
    {
     "name": "stdout",
     "output_type": "stream",
     "text": [
      "6\n"
     ]
    },
    {
     "data": {
      "text/plain": [
       "<matplotlib.lines.Line2D at 0x7f2fd1ef66a0>"
      ]
     },
     "execution_count": 31,
     "metadata": {},
     "output_type": "execute_result"
    },
    {
     "data": {
      "image/png": "[encoded data removed]",
      "text/plain": [
       "<Figure size 432x288 with 1 Axes>"
      ]
     },
     "metadata": {
      "needs_background": "light"
     },
     "output_type": "display_data"
    }
   ],
   "source": [
    "eng_ix = np.where(radius >= 0.2)[0][0]\n",
    "print(eng_ix)\n",
    "plt.plot(time, radius)\n",
    "plt.plot(time, savgol_filter(radius, 45, 2, mode=\"mirror\"))\n",
    "plt.plot(time, radius_sg)\n",
    "plt.axvline(time[eng_ix])"
   ]
  },
  {
   "cell_type": "code",
   "execution_count": 105,
   "metadata": {},
   "outputs": [
    {
     "data": {
      "text/plain": [
       "[<matplotlib.lines.Line2D at 0x7fa8b63c1630>]"
      ]
     },
     "execution_count": 105,
     "metadata": {},
     "output_type": "execute_result"
    },
    {
     "data": {
      "image/png": "[encoded data removed]",
      "text/plain": [
       "<Figure size 432x288 with 1 Axes>"
      ]
     },
     "metadata": {
      "needs_background": "light"
     },
     "output_type": "display_data"
    }
   ],
   "source": [
    "plt.plot(x_interp,-y_interp)"
   ]
  },
  {
   "cell_type": "code",
   "execution_count": null,
   "metadata": {},
   "outputs": [],
   "source": []
  }
 ],
 "metadata": {
  "kernelspec": {
   "display_name": "Python 3",
   "language": "python",
   "name": "python3"
  },
  "language_info": {
   "codemirror_mode": {
    "name": "ipython",
    "version": 3
   },
   "file_extension": ".py",
   "mimetype": "text/x-python",
   "name": "python",
   "nbconvert_exporter": "python",
   "pygments_lexer": "ipython3",
   "version": "3.6.8"
  }
 },
 "nbformat": 4,
 "nbformat_minor": 2
}
