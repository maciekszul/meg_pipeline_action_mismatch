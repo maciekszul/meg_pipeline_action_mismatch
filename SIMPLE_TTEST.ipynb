{
 "cells": [
  {
   "cell_type": "code",
   "execution_count": 43,
   "metadata": {},
   "outputs": [],
   "source": [
    "import mne\n",
    "import numpy as np\n",
    "import os.path as op\n",
    "from tools import files\n",
    "from scipy.stats import trim_mean, ttest_1samp, sem, ttest_rel, ttest_ind\n",
    "import matplotlib.pyplot as plt\n",
    "%matplotlib qt"
   ]
  },
  {
   "cell_type": "code",
   "execution_count": 2,
   "metadata": {},
   "outputs": [],
   "source": [
    "# functions\n",
    "trim = lambda x: trim_mean(x, 0.1, axis=0)"
   ]
  },
  {
   "cell_type": "code",
   "execution_count": 3,
   "metadata": {},
   "outputs": [],
   "source": [
    "main_path = op.join(\"/cubric\", \"scratch\", \"c1557187\", \"act_mis\")\n",
    "meg_path = op.join(main_path, \"MEG\")"
   ]
  },
  {
   "cell_type": "code",
   "execution_count": 4,
   "metadata": {},
   "outputs": [
    {
     "name": "stdout",
     "output_type": "stream",
     "text": [
      "['0001', '0003', '0008', '0014', '0015', '0016', '0017', '0019', '0021', '0027', '0030', '0032', '0034', '0035', '0038', '0039', '0040', '0041', '0043']\n"
     ]
    }
   ],
   "source": [
    "participants = files.get_folders_files(meg_path, wp=False)[0]\n",
    "participants.sort()\n",
    "participants.remove(\"0004\")\n",
    "participants.remove(\"0009\")\n",
    "participants.remove(\"0042\")\n",
    "print(participants)"
   ]
  },
  {
   "cell_type": "code",
   "execution_count": 5,
   "metadata": {},
   "outputs": [],
   "source": [
    "results_path = op.join(main_path, \"RESULTS\", \"TD_SENSOR_SPACE\")\n",
    "data_analysis_save = op.join(results_path, \"data_analysis.npy\")\n",
    "data_viz_save = op.join(results_path, \"data_viz.npy\")"
   ]
  },
  {
   "cell_type": "code",
   "execution_count": 27,
   "metadata": {},
   "outputs": [
    {
     "name": "stdout",
     "output_type": "stream",
     "text": [
      "0001\n",
      "0003\n",
      "0008\n",
      "0014\n",
      "0015\n",
      "0016\n",
      "0017\n",
      "0019\n",
      "0021\n",
      "0027\n",
      "0030\n",
      "0032\n",
      "0034\n",
      "0035\n",
      "0038\n",
      "0039\n",
      "0040\n",
      "0041\n",
      "0043\n"
     ]
    }
   ],
   "source": [
    "odd = []\n",
    "reg = []\n",
    "for pp in participants:\n",
    "    print(pp)\n",
    "    participant_path = op.join(meg_path, pp, \"new_v1\")\n",
    "    participant_files = files.get_files(participant_path, \"epochs-TD\", \"-epo.fif\")[2]\n",
    "    odd_epo = []\n",
    "    reg_epo = []\n",
    "    for i in participant_files:\n",
    "        epochs = mne.read_epochs(i, preload=True)\n",
    "        epochs = epochs.pick_types(meg=True, ref_meg=False, eog=False)\n",
    "        info = epochs.info\n",
    "        times = epochs.times\n",
    "        epochs = epochs.apply_baseline((-0.1, 0.0))\n",
    "        epochs = epochs.apply_baseline((1.6, 2.6))\n",
    "        odd_epo.append(epochs[\"40\"].get_data())\n",
    "        reg_epo.append(epochs[\"30\"].get_data())\n",
    "    \n",
    "    odd_epo = np.vstack(odd_epo)\n",
    "    odd_epo = trim_mean(odd_epo, 0.1, axis=0)\n",
    "    odd.append(odd_epo)\n",
    "    reg_epo = np.vstack(reg_epo)\n",
    "    reg_epo = trim_mean(reg_epo, 0.1, axis=0)\n",
    "    reg.append(reg_epo)"
   ]
  },
  {
   "cell_type": "code",
   "execution_count": 31,
   "metadata": {},
   "outputs": [],
   "source": [
    "odd_X = np.array(odd)\n",
    "reg_X = np.array(reg)"
   ]
  },
  {
   "cell_type": "code",
   "execution_count": 46,
   "metadata": {},
   "outputs": [],
   "source": [
    "t = np.zeros((274, 775))\n",
    "pv = np.zeros((274, 775))\n",
    "\n",
    "for channel in range(274):\n",
    "    for time in range(775):\n",
    "        o = odd_X[:,channel,time]\n",
    "        r = reg_X[:,channel,time]\n",
    "        s, p = ttest_ind(o, r)\n",
    "        t[channel, time] = s\n",
    "        pv[channel, time] = p\n",
    "        "
   ]
  },
  {
   "cell_type": "code",
   "execution_count": 103,
   "metadata": {},
   "outputs": [],
   "source": [
    "p_map = pv < 0.01\n",
    "t_thr = t * p_map"
   ]
  },
  {
   "cell_type": "code",
   "execution_count": 104,
   "metadata": {},
   "outputs": [],
   "source": [
    "inv_pv = np.ones(pv.shape) - pv"
   ]
  },
  {
   "cell_type": "code",
   "execution_count": 105,
   "metadata": {},
   "outputs": [
    {
     "data": {
      "text/plain": [
       "<matplotlib.image.AxesImage at 0x7f964cf9bcf8>"
      ]
     },
     "execution_count": 105,
     "metadata": {},
     "output_type": "execute_result"
    }
   ],
   "source": [
    "plt.imshow(p_map,origin=\"upper\", cmap=\"gray\")"
   ]
  },
  {
   "cell_type": "code",
   "execution_count": 114,
   "metadata": {},
   "outputs": [
    {
     "data": {
      "text/plain": [
       "<matplotlib.image.AxesImage at 0x7f964cd660b8>"
      ]
     },
     "execution_count": 114,
     "metadata": {},
     "output_type": "execute_result"
    }
   ],
   "source": [
    "fig = plt.figure(figsize=(10,10))\n",
    "ax = fig.add_subplot(111)\n",
    "ax.imshow(t,origin=\"upper\", cmap=\"gray\")\n"
   ]
  },
  {
   "cell_type": "code",
   "execution_count": 119,
   "metadata": {},
   "outputs": [
    {
     "data": {
      "text/plain": [
       "(<matplotlib.image.AxesImage at 0x7f964cc49550>,\n",
       " <matplotlib.contour.QuadContourSet at 0x7f964cc49320>)"
      ]
     },
     "execution_count": 119,
     "metadata": {},
     "output_type": "execute_result"
    }
   ],
   "source": [
    "mne.viz.plot_topomap(t[:,ix], info, res=200, mask=p_map[:,ix], show=False)"
   ]
  },
  {
   "cell_type": "code",
   "execution_count": 93,
   "metadata": {},
   "outputs": [
    {
     "data": {
      "text/plain": [
       "0.33199999999999985"
      ]
     },
     "execution_count": 93,
     "metadata": {},
     "output_type": "execute_result"
    }
   ],
   "source": [
    "ix/250 - 2"
   ]
  },
  {
   "cell_type": "code",
   "execution_count": null,
   "metadata": {},
   "outputs": [],
   "source": []
  }
 ],
 "metadata": {
  "kernelspec": {
   "display_name": "Python 3",
   "language": "python",
   "name": "python3"
  },
  "language_info": {
   "codemirror_mode": {
    "name": "ipython",
    "version": 3
   },
   "file_extension": ".py",
   "mimetype": "text/x-python",
   "name": "python",
   "nbconvert_exporter": "python",
   "pygments_lexer": "ipython3",
   "version": "3.6.8"
  }
 },
 "nbformat": 4,
 "nbformat_minor": 2
}
